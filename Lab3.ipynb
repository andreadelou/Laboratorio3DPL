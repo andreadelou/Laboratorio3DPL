{
  "cells": [
    {
      "cell_type": "markdown",
      "id": "67d120a3",
      "metadata": {
        "deletable": false,
        "editable": false,
        "id": "67d120a3",
        "nbgrader": {
          "cell_type": "markdown",
          "checksum": "29a51d6adb5ea98d045b522a0c2d5cb2",
          "grade": false,
          "grade_id": "cell-412524340acc422c",
          "locked": true,
          "schema_version": 3,
          "solution": false,
          "task": false
        }
      },
      "source": [
        "# Laboratorio 3\n",
        "\n",
        "Sean bienvenidos de nuevo al laboratorio 3 de Deep Learning y Sistemas Inteligentes. Así como en los laboratorios pasados, espero que esta ejercitación les sirva para consolidar sus conocimientos en el tema de Redes Neuronales Recurrentes y LSTM.\n",
        "\n",
        "Este laboratorio consta de dos partes. En la primera trabajaremos una Red Neuronal Recurrente paso-a-paso. En la segunda fase, usaremos PyTorch para crear una nueva Red Neuronal pero con LSTM, con la finalidad de que no solo sepan que existe cierta función sino también entender qué hace en un poco más de detalle.\n",
        "\n",
        "Para este laboratorio estaremos usando una herramienta para Jupyter Notebooks que facilitará la calificación, no solo asegurándo que ustedes tengan una nota pronto sino también mostrandoles su nota final al terminar el laboratorio.\n",
        "\n",
        "Espero que esta vez si se muestren los *marks*. De nuevo me discupo si algo no sale bien, seguiremos mejorando conforme vayamos iterando. Siempre pido su comprensión y colaboración si algo no funciona como debería.\n",
        "\n",
        "Al igual que en el laboratorio pasado, estaremos usando la librería de Dr John Williamson et al de la University of Glasgow, además de ciertas piezas de código de Dr Bjorn Jensen de su curso de Introduction to Data Science and System de la University of Glasgow para la visualización de sus calificaciones.\n",
        "\n",
        "<script type=\"text/javascript\" src=\"https://cdn.mathjax.org/mathjax/latest/MathJax.js?config=TeX-AMS-MML_HTMLorMML\">\n",
        "</script>"
      ]
    },
    {
      "cell_type": "code",
      "execution_count": 1,
      "id": "b4fa65b0",
      "metadata": {
        "ExecuteTime": {
          "end_time": "2023-07-31T02:26:36.411618Z",
          "start_time": "2023-07-31T02:26:36.397922Z"
        },
        "colab": {
          "base_uri": "https://localhost:8080/"
        },
        "id": "b4fa65b0",
        "outputId": "0e769706-0a53-4f5d-beee-6dc5cd8fd83f"
      },
      "outputs": [
        {
          "name": "stdout",
          "output_type": "stream",
          "text": [
            "Collecting https://github.com/johnhw/jhwutils/zipball/master\n",
            "  Downloading https://github.com/johnhw/jhwutils/zipball/master\n",
            "\u001b[2K     \u001b[32m-\u001b[0m \u001b[32m38.1 kB\u001b[0m \u001b[31m1.4 MB/s\u001b[0m \u001b[33m0:00:00\u001b[0m\n",
            "\u001b[?25h  Preparing metadata (setup.py) ... \u001b[?25l\u001b[?25hdone\n",
            "Building wheels for collected packages: jhwutils\n",
            "  Building wheel for jhwutils (setup.py) ... \u001b[?25l\u001b[?25hdone\n",
            "  Created wheel for jhwutils: filename=jhwutils-1.0-py3-none-any.whl size=33802 sha256=e2bcd2904363054a56ef5ff0abdf181240c0ade6e1a110448c34911e60acc1d6\n",
            "  Stored in directory: /tmp/pip-ephem-wheel-cache-1mk3digr/wheels/27/3c/cb/eb7b3c6ea36b5b54e5746751443be9bb0d73352919033558a2\n",
            "Successfully built jhwutils\n",
            "Installing collected packages: jhwutils\n",
            "Successfully installed jhwutils-1.0\n",
            "Requirement already satisfied: scikit-image in /usr/local/lib/python3.10/dist-packages (0.19.3)\n",
            "Requirement already satisfied: numpy>=1.17.0 in /usr/local/lib/python3.10/dist-packages (from scikit-image) (1.22.4)\n",
            "Requirement already satisfied: scipy>=1.4.1 in /usr/local/lib/python3.10/dist-packages (from scikit-image) (1.10.1)\n",
            "Requirement already satisfied: networkx>=2.2 in /usr/local/lib/python3.10/dist-packages (from scikit-image) (3.1)\n",
            "Requirement already satisfied: pillow!=7.1.0,!=7.1.1,!=8.3.0,>=6.1.0 in /usr/local/lib/python3.10/dist-packages (from scikit-image) (9.4.0)\n",
            "Requirement already satisfied: imageio>=2.4.1 in /usr/local/lib/python3.10/dist-packages (from scikit-image) (2.25.1)\n",
            "Requirement already satisfied: tifffile>=2019.7.26 in /usr/local/lib/python3.10/dist-packages (from scikit-image) (2023.7.18)\n",
            "Requirement already satisfied: PyWavelets>=1.1.1 in /usr/local/lib/python3.10/dist-packages (from scikit-image) (1.4.1)\n",
            "Requirement already satisfied: packaging>=20.0 in /usr/local/lib/python3.10/dist-packages (from scikit-image) (23.1)\n"
          ]
        }
      ],
      "source": [
        "# Una vez instalada la librería por favor, recuerden volverla a comentar.\n",
        "#!pip install -U --force-reinstall --no-cache https://github.com/johnhw/jhwutils/zipball/master\n",
        "#!pip install scikit-image"
      ]
    },
    {
      "cell_type": "code",
      "execution_count": 2,
      "id": "53d221fd",
      "metadata": {
        "ExecuteTime": {
          "end_time": "2023-07-31T02:26:37.922283Z",
          "start_time": "2023-07-31T02:26:36.413615Z"
        },
        "id": "53d221fd"
      },
      "outputs": [],
      "source": [
        "import numpy as np\n",
        "import copy\n",
        "import matplotlib.pyplot as plt\n",
        "import scipy\n",
        "from PIL import Image\n",
        "import os\n",
        "from collections import defaultdict\n",
        "\n",
        "#from IPython import display\n",
        "#from base64 import b64decode\n",
        "\n",
        "\n",
        "# Other imports\n",
        "from unittest.mock import patch\n",
        "from uuid import getnode as get_mac\n",
        "\n",
        "from jhwutils.checkarr import array_hash, check_hash, check_scalar, check_string, array_hash, _check_scalar\n",
        "import jhwutils.image_audio as ia\n",
        "import jhwutils.tick as tick\n",
        "\n",
        "###\n",
        "tick.reset_marks()\n",
        "\n",
        "%matplotlib inline"
      ]
    },
    {
      "cell_type": "code",
      "execution_count": 3,
      "id": "cf165e82",
      "metadata": {
        "ExecuteTime": {
          "end_time": "2023-07-31T02:26:37.937667Z",
          "start_time": "2023-07-31T02:26:37.924277Z"
        },
        "deletable": false,
        "editable": false,
        "id": "cf165e82",
        "nbgrader": {
          "cell_type": "code",
          "checksum": "a39756cb52fe963f67e015d4d8fe57a4",
          "grade": false,
          "grade_id": "cell-57de155e9f3409c3",
          "locked": true,
          "schema_version": 3,
          "solution": false,
          "task": false
        }
      },
      "outputs": [],
      "source": [
        "# Seeds\n",
        "seed_ = 2023\n",
        "np.random.seed(seed_)"
      ]
    },
    {
      "cell_type": "code",
      "execution_count": 4,
      "id": "6688fc4e",
      "metadata": {
        "ExecuteTime": {
          "end_time": "2023-07-31T02:26:37.952666Z",
          "start_time": "2023-07-31T02:26:37.940679Z"
        },
        "deletable": false,
        "editable": false,
        "id": "6688fc4e",
        "nbgrader": {
          "cell_type": "code",
          "checksum": "500bf8639033566b1f628a100f1180ca",
          "grade": true,
          "grade_id": "cell-e0ac5721852fe7fd",
          "locked": true,
          "points": 0,
          "schema_version": 3,
          "solution": false,
          "task": false
        }
      },
      "outputs": [],
      "source": [
        "# Celda escondida para utlidades necesarias, por favor NO edite esta celda\n"
      ]
    },
    {
      "cell_type": "markdown",
      "id": "eff949f8",
      "metadata": {
        "ExecuteTime": {
          "end_time": "2023-07-30T00:51:50.240511Z",
          "start_time": "2023-07-30T00:51:50.231535Z"
        },
        "deletable": false,
        "editable": false,
        "id": "eff949f8",
        "nbgrader": {
          "cell_type": "markdown",
          "checksum": "97d6b491fefaa9d0c1ffc3ac064a24bc",
          "grade": false,
          "grade_id": "cell-cdc148943062b4ab",
          "locked": true,
          "schema_version": 3,
          "solution": false,
          "task": false
        }
      },
      "source": [
        "###### Información del estudiante en dos variables\n",
        "\n",
        "* carne_1 : un string con su carne (e.g. \"12281\"), debe ser de al menos 5 caracteres.\n",
        "* firma_mecanografiada_1: un string con su nombre (e.g. \"Albero Suriano\") que se usará para la declaracion que este trabajo es propio (es decir, no hay plagio)\n",
        "* carne_2 : un string con su carne (e.g. \"12281\"), debe ser de al menos 5 caracteres.\n",
        "* firma_mecanografiada_2: un string con su nombre (e.g. \"Albero Suriano\") que se usará para la declaracion que este trabajo es propio (es decir, no hay plagio)"
      ]
    },
    {
      "cell_type": "code",
      "execution_count": 5,
      "id": "18be1d23",
      "metadata": {
        "ExecuteTime": {
          "end_time": "2023-07-31T02:26:37.967716Z",
          "start_time": "2023-07-31T02:26:37.954661Z"
        },
        "deletable": false,
        "id": "18be1d23",
        "nbgrader": {
          "cell_type": "code",
          "checksum": "7cd4a99d7434f922d6754ac890fc97e5",
          "grade": false,
          "grade_id": "cell-1dec8918a2e1a2cf",
          "locked": false,
          "schema_version": 3,
          "solution": true,
          "task": false
        }
      },
      "outputs": [],
      "source": [
        "# carne_1 =\n",
        "# firma_mecanografiada_1 =\n",
        "# carne_2 =\n",
        "# firma_mecanografiada_2 =\n",
        "# YOUR CODE HERE\n",
        "carne_1 = \"20074\"\n",
        "firma_mecanografiada_1 = \"MarianoReyes\"\n",
        "carne_2 = \"20102\"\n",
        "firma_mecanografiada_2 = \"AndreaLam\""
      ]
    },
    {
      "cell_type": "code",
      "execution_count": 6,
      "id": "8d952cf0",
      "metadata": {
        "ExecuteTime": {
          "end_time": "2023-07-31T02:26:37.983242Z",
          "start_time": "2023-07-31T02:26:37.969262Z"
        },
        "colab": {
          "base_uri": "https://localhost:8080/",
          "height": 128
        },
        "id": "8d952cf0",
        "outputId": "30deb85b-2550-4fa5-cbca-c59bd1b47f5f"
      },
      "outputs": [
        {
          "data": {
            "text/html": [
              "\n",
              "        <div class=\"alert alert-box alert-success\">\n",
              "        <h1> <!--{id:\"CORRECTMARK\", marks:\"0\"}--> \n",
              "         ✓ [0 marks] \n",
              "         </h1> </div>"
            ],
            "text/plain": [
              "<IPython.core.display.HTML object>"
            ]
          },
          "metadata": {},
          "output_type": "display_data"
        },
        {
          "data": {
            "text/html": [
              "\n",
              "        <div class=\"alert alert-box alert-success\">\n",
              "        <h1> <!--{id:\"CORRECTMARK\", marks:\"0\"}--> \n",
              "         ✓ [0 marks] \n",
              "         </h1> </div>"
            ],
            "text/plain": [
              "<IPython.core.display.HTML object>"
            ]
          },
          "metadata": {},
          "output_type": "display_data"
        }
      ],
      "source": [
        "# Deberia poder ver dos checkmarks verdes [0 marks], que indican que su información básica está OK\n",
        "\n",
        "with tick.marks(0):\n",
        "    assert(len(carne_1)>=5 and len(carne_2)>=5)\n",
        "\n",
        "with tick.marks(0):\n",
        "    assert(len(firma_mecanografiada_1)>0 and len(firma_mecanografiada_2)>0)"
      ]
    },
    {
      "cell_type": "markdown",
      "id": "4c6b6a3c",
      "metadata": {
        "deletable": false,
        "editable": false,
        "id": "4c6b6a3c",
        "nbgrader": {
          "cell_type": "markdown",
          "checksum": "dc5db5a03eaba2adbf0f76c10e067442",
          "grade": false,
          "grade_id": "cell-3092f1f9ee984601",
          "locked": true,
          "schema_version": 3,
          "solution": false,
          "task": false
        }
      },
      "source": [
        "## Parte 1 - Construyendo una Red Neuronal Recurrente\n",
        "\n",
        "**Créditos:** La primera parte de este laboratorio está tomado y basado en uno de los laboratorios dados dentro del curso de \"Deep Learning\" de Jes Frellsen (DeepLearningDTU)\n",
        "\n",
        "La aplicación de los datos secuenciales pueden ir desde predicción del clima hasta trabajar con lenguaje natural. En este laboratorio daremos un vistazo a como las RNN pueden ser usadas dentro del modelaje del lenguaje, es decir, trataremos de predecir el siguiente token dada una secuencia. En el campo de NLP, un token puede ser un caracter o bien una palabra.\n",
        "\n",
        "### Representanción de Tokens o Texto\n",
        "\n",
        "Como bien hemos hablado varias veces, la computadora no entiende palabras ni mucho menos oraciones completas en la misma forma que nuestros cerebros lo hacen. Por ello, debemos encontrar alguna forma de representar palabras o caracteres en una manera que la computadora sea capaz de interpretarla, es decir, con números. Hay varias formas de representar un grupo de palabras de forma numérica, pero para fines de este laboratorio vamos a centrarnos en una manera común, llamada \"one-hot encoding\".\n",
        "\n",
        "#### One Hot Encoding\n",
        "Esta técnica debe resultarles familiar de cursos pasados, donde se tomaba una conjunto de categorías y se les asignaba una columna por categoría, entonces se coloca un 1 si el row que estamos evaluando es parte de esa categoría o un 0 en caso contrario. Este mismo acercamiento podemos tomarlo para representar conjuntos de palabras. Por ejemplo\n",
        "\n",
        "```\n",
        "casa = [1, 0, 0, ..., 0]\n",
        "perro = [0, 1, 0, ..., 0]\n",
        "```\n",
        "\n",
        "Representar un vocabulario grande con one-hot enconding, suele volverse ineficiente debido al tamaño de cada vector disperso. Para solventar esto, una práctica común es truncar el vocabulario para contener las palabras más utilizadas y representar el resto con un símbolo especial, UNK, para definir palabras \"desconocidas\" o \"sin importancia\". A menudo esto se hace que palabras tales como nombres se vean como UNK porque son raros.\n",
        "\n",
        "### Generando el Dataset a Usar\n",
        "\n",
        "Para este laboratorio usaremos un dataset simplificado, del cual debería ser más sencillo el aprender de él. Estaremos generando secuencias de la forma\n",
        "\n",
        "```\n",
        "a b EOS\n",
        "a a a a b b b b EOS\n",
        "```\n",
        "\n",
        "Noten la aparición del token \"EOS\", el cual es un caracter especial que denota el fin de la secuencia. Nuestro task en general será el predecir el siguiente token $t_n$, donde este podrá ser \"a\", \"b\", \"EOS\", o \"UNK\" dada una secuencia de forma ${t_1 , ... , t_{n-1}}$."
      ]
    },
    {
      "cell_type": "code",
      "execution_count": 7,
      "id": "6cfc979b",
      "metadata": {
        "ExecuteTime": {
          "end_time": "2023-07-31T02:26:37.999248Z",
          "start_time": "2023-07-31T02:26:37.984241Z"
        },
        "colab": {
          "base_uri": "https://localhost:8080/"
        },
        "deletable": false,
        "editable": false,
        "id": "6cfc979b",
        "nbgrader": {
          "cell_type": "code",
          "checksum": "d0adba37e43168d88355edd44ad433cb",
          "grade": false,
          "grade_id": "cell-62b6e4727b9bb25c",
          "locked": true,
          "schema_version": 3,
          "solution": false,
          "task": false
        },
        "outputId": "35a7017b-e03f-45dd-cafb-916c2bc8a949"
      },
      "outputs": [
        {
          "name": "stdout",
          "output_type": "stream",
          "text": [
            "Una secuencia del grupo generado\n",
            "['a', 'a', 'a', 'a', 'a', 'a', 'a', 'a', 'b', 'b', 'b', 'b', 'b', 'b', 'b', 'b', 'EOS']\n"
          ]
        }
      ],
      "source": [
        "# Reseed the cell\n",
        "np.random.seed(seed_)\n",
        "\n",
        "def generate_data(num_seq=100):\n",
        "    \"\"\"\n",
        "    Genera un grupo de secuencias, la cantidad de secuencias es dada por num_seq\n",
        "\n",
        "    Args:\n",
        "    num_seq: El número de secuencias a ser generadas\n",
        "\n",
        "    Returns:\n",
        "    Una lista de secuencias\n",
        "    \"\"\"\n",
        "    samples = []\n",
        "    for i in range(num_seq):\n",
        "        # Genera una secuencia de largo aleatorio\n",
        "        num_tokens = np.random.randint(1,12)\n",
        "        # Genera la muestra\n",
        "        sample = ['a'] * num_tokens + ['b'] * num_tokens + ['EOS']\n",
        "        # Agregamos\n",
        "        samples.append(sample)\n",
        "    return samples\n",
        "\n",
        "sequences = generate_data()\n",
        "print(\"Una secuencia del grupo generado\")\n",
        "print(sequences[0])"
      ]
    },
    {
      "cell_type": "markdown",
      "id": "dd08cda1",
      "metadata": {
        "deletable": false,
        "editable": false,
        "id": "dd08cda1",
        "nbgrader": {
          "cell_type": "markdown",
          "checksum": "0a26144f688af47794960dfd5fdca804",
          "grade": false,
          "grade_id": "cell-844a1596734445c9",
          "locked": true,
          "schema_version": 3,
          "solution": false,
          "task": false
        }
      },
      "source": [
        "### Representación de tokens como índices\n",
        "\n",
        "En este paso haremos la parte del one-hot encoding. Para esto necesitaremos asignar a cada posible palabra de nuestro vocabulario un índice. Para esto crearemos dos diccionarios, uno que permitirá que dada una palabra nos dirá su representación como \"indice\" en el vocabulario, y el segundo que irá en dirección contraria.\n",
        "\n",
        "A estos les llamaremos `word_to_idx` y `idx_to_word`. La variable `vocab_size` nos dirá el máximo de tamaño de nuestro vocabulario. Si intentamos acceder a una palabra que no está en nuestro vocabulario, entonces se le reemplazará con el token \"UNK\" o su índice correspondiente."
      ]
    },
    {
      "cell_type": "code",
      "execution_count": 8,
      "id": "8940eccd",
      "metadata": {
        "ExecuteTime": {
          "end_time": "2023-07-31T02:26:38.014742Z",
          "start_time": "2023-07-31T02:26:38.001753Z"
        },
        "colab": {
          "base_uri": "https://localhost:8080/"
        },
        "deletable": false,
        "id": "8940eccd",
        "nbgrader": {
          "cell_type": "code",
          "checksum": "6f52a0cd85402df075f20a68ae5f4e35",
          "grade": false,
          "grade_id": "cell-5276b445f04c739b",
          "locked": false,
          "schema_version": 3,
          "solution": true,
          "task": false
        },
        "outputId": "2e7e1a0b-cfd6-40ed-840c-615578417829"
      },
      "outputs": [
        {
          "name": "stdout",
          "output_type": "stream",
          "text": [
            "Tenemos 100 secuencias y 4 tokens unicos incluyendo UNK\n",
            "El indice de 'b' es 1\n",
            "La palabra con indice 1 es b\n"
          ]
        }
      ],
      "source": [
        "def seqs_to_dicts(sequences):\n",
        "    \"\"\"\n",
        "    Crea word_to_idx y idx_to_word para una lista de secuencias\n",
        "\n",
        "    Args:\n",
        "    sequences: lista de secuencias a usar\n",
        "\n",
        "    Returns:\n",
        "    Diccionario de palabra a indice\n",
        "    Diccionario de indice a palabra\n",
        "    Int numero de secuencias\n",
        "    Int tamaño del vocabulario\n",
        "    \"\"\"\n",
        "\n",
        "    # Lambda para aplanar (flatten) una lista de listas\n",
        "    flatten = lambda l: [item for sublist in l for item in sublist]\n",
        "\n",
        "    # Aplanamos el dataset\n",
        "    all_words = flatten(sequences)\n",
        "\n",
        "    # Conteo de las ocurrencias de las palabras\n",
        "    word_count = defaultdict(int)\n",
        "    for word in all_words:\n",
        "        word_count[word] += 1\n",
        "\n",
        "    # Ordenar por frecuencia\n",
        "    word_count = sorted(list(word_count.items()), key=lambda x: -x[1])\n",
        "\n",
        "    # Crear una lista de todas las palabras únicas\n",
        "    unique_words = [w[0] for w in word_count]\n",
        "\n",
        "    # Agregamos UNK a la lista de palabras\n",
        "    unique_words.append(\"UNK\")\n",
        "\n",
        "    # Conteo del número de secuencias y el número de palabras unicas\n",
        "    num_sentences, vocab_size = len(sequences), len(unique_words)\n",
        "\n",
        "    # Crear diccionarios mencionados\n",
        "    word_to_idx = defaultdict(lambda: vocab_size-1)\n",
        "    idx_to_word = defaultdict(lambda: 'UNK')\n",
        "\n",
        "    # Llenado de diccionarios\n",
        "    for idx, word in enumerate(unique_words):\n",
        "        # Aprox 2 lineas para agregar\n",
        "        # word_to_idx[word] =\n",
        "        # idx_to_word[idx] =\n",
        "        # YOUR CODE HERE\n",
        "        word_to_idx[word] = idx\n",
        "        idx_to_word[idx] = word\n",
        "\n",
        "    return word_to_idx, idx_to_word, num_sentences, vocab_size\n",
        "\n",
        "word_to_idx, idx_to_word, num_sequences, vocab_size = seqs_to_dicts(sequences)\n",
        "\n",
        "print(f\"Tenemos {num_sequences} secuencias y {len(word_to_idx)} tokens unicos incluyendo UNK\")\n",
        "print(f\"El indice de 'b' es {word_to_idx['b']}\")\n",
        "print(f\"La palabra con indice 1 es {idx_to_word[1]}\")"
      ]
    },
    {
      "cell_type": "code",
      "execution_count": 9,
      "id": "8e17b1e6",
      "metadata": {
        "ExecuteTime": {
          "end_time": "2023-07-31T02:26:38.030386Z",
          "start_time": "2023-07-31T02:26:38.016244Z"
        },
        "colab": {
          "base_uri": "https://localhost:8080/",
          "height": 181
        },
        "deletable": false,
        "editable": false,
        "id": "8e17b1e6",
        "nbgrader": {
          "cell_type": "code",
          "checksum": "e23613d7a17abd6db68772917d07f26d",
          "grade": true,
          "grade_id": "cell-c7aed80352919e68",
          "locked": true,
          "points": 10,
          "schema_version": 3,
          "solution": false,
          "task": false
        },
        "outputId": "d722a4ea-08f7-40c3-de1c-818acc3c8035"
      },
      "outputs": [
        {
          "data": {
            "text/html": [
              "\n",
              "        <div class=\"alert alert-box alert-success\">\n",
              "        <h1> <!--{id:\"CORRECTMARK\", marks:\"3\"}--> \n",
              "         ✓ [3 marks] \n",
              "         </h1> </div>"
            ],
            "text/plain": [
              "<IPython.core.display.HTML object>"
            ]
          },
          "metadata": {},
          "output_type": "display_data"
        },
        {
          "data": {
            "text/html": [
              "\n",
              "        <div class=\"alert alert-box alert-success\">\n",
              "        <h1> <!--{id:\"CORRECTMARK\", marks:\"2\"}--> \n",
              "         ✓ [2 marks] \n",
              "         </h1> </div>"
            ],
            "text/plain": [
              "<IPython.core.display.HTML object>"
            ]
          },
          "metadata": {},
          "output_type": "display_data"
        },
        {
          "data": {
            "text/html": [
              "\n",
              "        <div class=\"alert alert-box alert-success\">\n",
              "        <h1> <!--{id:\"CORRECTMARK\", marks:\"5\"}--> \n",
              "         ✓ [5 marks] \n",
              "         </h1> </div>"
            ],
            "text/plain": [
              "<IPython.core.display.HTML object>"
            ]
          },
          "metadata": {},
          "output_type": "display_data"
        }
      ],
      "source": [
        "with tick.marks(3):\n",
        "    assert(check_scalar(len(word_to_idx), '0xc51b9ba8'))\n",
        "\n",
        "with tick.marks(2):\n",
        "    assert(check_scalar(len(idx_to_word), '0xc51b9ba8'))\n",
        "\n",
        "with tick.marks(5):\n",
        "    assert(check_string(idx_to_word[0], '0xe8b7be43'))"
      ]
    },
    {
      "cell_type": "markdown",
      "id": "97cf7418",
      "metadata": {
        "deletable": false,
        "editable": false,
        "id": "97cf7418",
        "nbgrader": {
          "cell_type": "markdown",
          "checksum": "41c936e1a2f35b960bd2e805e9634b6a",
          "grade": false,
          "grade_id": "cell-650d92ab739231c8",
          "locked": true,
          "schema_version": 3,
          "solution": false,
          "task": false
        }
      },
      "source": [
        "### Representación de tokens como índices\n",
        "\n",
        "Como bien sabemos, necesitamos crear nuestro dataset de forma que el se divida en inputs y targets para cada secuencia y luego particionar esto en training, validation y test (80%, 10%, 10%). Debido a que estamso haciendo prediccion de la siguiente palabra, nuestro target es el input movido (shifted) una palabra.\n",
        "\n",
        "Vamos a usar PyTorch solo para crear el dataset (como lo hicimos con las imagenes de perritos y gatitos de los laboratorios pasados). Aunque esta vez no haremos el dataloader. Recuerden que siempre es buena idea usar un DataLoader para obtener los datos de una forma eficienciente, al ser este un generador/iterador. Además, este nos sirve para obtener la información en batches."
      ]
    },
    {
      "cell_type": "code",
      "execution_count": 10,
      "id": "f2d35905",
      "metadata": {
        "ExecuteTime": {
          "end_time": "2023-07-31T02:26:39.108394Z",
          "start_time": "2023-07-31T02:26:38.031389Z"
        },
        "colab": {
          "base_uri": "https://localhost:8080/"
        },
        "deletable": false,
        "editable": false,
        "id": "f2d35905",
        "nbgrader": {
          "cell_type": "code",
          "checksum": "9e41ed4ad2165904a221567eab31e222",
          "grade": false,
          "grade_id": "cell-186baacdbd91cc05",
          "locked": true,
          "schema_version": 3,
          "solution": false,
          "task": false
        },
        "outputId": "1daba883-c47e-4d8e-aec6-0fbe7484712d"
      },
      "outputs": [
        {
          "name": "stdout",
          "output_type": "stream",
          "text": [
            "Largo del training set 80\n",
            "Largo del validation set 10\n",
            "Largo del test set 10\n"
          ]
        }
      ],
      "source": [
        "from torch.utils import data\n",
        "\n",
        "class Dataset(data.Dataset):\n",
        "    def __init__(self, inputs, targets):\n",
        "        self.inputs = inputs\n",
        "        self.targets = targets\n",
        "\n",
        "    def __len__(self):\n",
        "        # Return the size of the dataset\n",
        "        return len(self.targets)\n",
        "\n",
        "    def __getitem__(self, index):\n",
        "        # Retrieve inputs and targets at the given index\n",
        "        X = self.inputs[index]\n",
        "        y = self.targets[index]\n",
        "\n",
        "        return X, y\n",
        "\n",
        "\n",
        "def create_datasets(sequences, dataset_class, p_train=0.8, p_val=0.1, p_test=0.1):\n",
        "\n",
        "    # Definimos el tamaño de las particiones\n",
        "    num_train = int(len(sequences)*p_train)\n",
        "    num_val = int(len(sequences)*p_val)\n",
        "    num_test = int(len(sequences)*p_test)\n",
        "\n",
        "    # Dividir las secuencias en las particiones\n",
        "    sequences_train = sequences[:num_train]\n",
        "    sequences_val = sequences[num_train:num_train+num_val]\n",
        "    sequences_test = sequences[-num_test:]\n",
        "\n",
        "    # Funcion interna para obtener los targets de una secuencia\n",
        "    def get_inputs_targets_from_sequences(sequences):\n",
        "        # Listas vacias\n",
        "        inputs, targets = [], []\n",
        "\n",
        "        # Agregar informacion a las listas, ambas listas tienen L-1 palabras de una secuencia de largo L\n",
        "        # pero los targetes están movidos a la derecha por uno, para que podamos predecir la siguiente palabra\n",
        "        for sequence in sequences:\n",
        "            inputs.append(sequence[:-1])\n",
        "            targets.append(sequence[1:])\n",
        "\n",
        "        return inputs, targets\n",
        "\n",
        "    # Obtener inputs y targes para cada subgrupo\n",
        "    inputs_train, targets_train = get_inputs_targets_from_sequences(sequences_train)\n",
        "    inputs_val, targets_val = get_inputs_targets_from_sequences(sequences_val)\n",
        "    inputs_test, targets_test = get_inputs_targets_from_sequences(sequences_test)\n",
        "\n",
        "    # Creación de datasets\n",
        "    training_set = dataset_class(inputs_train, targets_train)\n",
        "    validation_set = dataset_class(inputs_val, targets_val)\n",
        "    test_set = dataset_class(inputs_test, targets_test)\n",
        "\n",
        "    return training_set, validation_set, test_set\n",
        "\n",
        "\n",
        "training_set, validation_set, test_set = create_datasets(sequences, Dataset)\n",
        "\n",
        "print(f\"Largo del training set {len(training_set)}\")\n",
        "print(f\"Largo del validation set {len(validation_set)}\")\n",
        "print(f\"Largo del test set {len(test_set)}\")"
      ]
    },
    {
      "cell_type": "markdown",
      "id": "7ecf12af",
      "metadata": {
        "deletable": false,
        "editable": false,
        "id": "7ecf12af",
        "nbgrader": {
          "cell_type": "markdown",
          "checksum": "68e5ac2cd049c56737d20e23c06b751e",
          "grade": false,
          "grade_id": "cell-f048a8b17dec6268",
          "locked": true,
          "schema_version": 3,
          "solution": false,
          "task": false
        }
      },
      "source": [
        "### One-Hot Encodings\n",
        "\n",
        "Ahora creemos una función simple para obtener la representación one-hot encoding de dado un índice de una palabra. Noten que el tamaño del one-hot encoding es igual a la del vocabulario. Adicionalmente definamos una función para encodear una secuencia."
      ]
    },
    {
      "cell_type": "code",
      "execution_count": 11,
      "id": "a50596f4",
      "metadata": {
        "ExecuteTime": {
          "end_time": "2023-07-31T02:26:39.123829Z",
          "start_time": "2023-07-31T02:26:39.111300Z"
        },
        "colab": {
          "base_uri": "https://localhost:8080/"
        },
        "deletable": false,
        "editable": false,
        "id": "a50596f4",
        "nbgrader": {
          "cell_type": "code",
          "checksum": "6eea35ea244f238189afef746c0c3067",
          "grade": false,
          "grade_id": "cell-91e0dff1547fcd06",
          "locked": true,
          "schema_version": 3,
          "solution": false,
          "task": false
        },
        "outputId": "4b36351a-6cf8-428d-9905-16814bea5743"
      },
      "outputs": [
        {
          "name": "stdout",
          "output_type": "stream",
          "text": [
            "Encodeado de 'a' con forma (4,)\n",
            "Encodeado de la secuencia 'a b' con forma (2, 4, 1).\n"
          ]
        }
      ],
      "source": [
        "def one_hot_encode(idx, vocab_size):\n",
        "    \"\"\"\n",
        "    Encodea una sola palabra dado su indice y el tamaño del vocabulario\n",
        "\n",
        "    Args:\n",
        "     idx: indice de la palabra\n",
        "     vocab_size: tamaño del vocabulario\n",
        "\n",
        "    Returns\n",
        "    np.array de lagro \"vocab_size\"\n",
        "    \"\"\"\n",
        "    # Init array encodeado\n",
        "    one_hot = np.zeros(vocab_size)\n",
        "\n",
        "    # Setamos el elemento a uno\n",
        "    one_hot[idx] = 1.0\n",
        "\n",
        "    return one_hot\n",
        "\n",
        "\n",
        "def one_hot_encode_sequence(sequence, vocab_size):\n",
        "    \"\"\"\n",
        "    Encodea una secuencia de palabras dado el tamaño del vocabulario\n",
        "\n",
        "    Args:\n",
        "     sentence: una lista de palabras a encodear\n",
        "     vocab_size: tamaño del vocabulario\n",
        "\n",
        "    Returns\n",
        "    np.array 3D de tamaño (numero de palabras, vocab_size, 1)\n",
        "    \"\"\"\n",
        "    # Encodear cada palabra en la secuencia\n",
        "    encoding = np.array([one_hot_encode(word_to_idx[word], vocab_size) for word in sequence])\n",
        "\n",
        "    # Cambiar de forma para tener (num words, vocab size, 1)\n",
        "    encoding = encoding.reshape(encoding.shape[0], encoding.shape[1], 1)\n",
        "\n",
        "    return encoding\n",
        "\n",
        "test_word = one_hot_encode(word_to_idx['a'], vocab_size)\n",
        "print(f\"Encodeado de 'a' con forma {test_word.shape}\")\n",
        "\n",
        "test_sentence = one_hot_encode_sequence(['a', 'b'], vocab_size)\n",
        "print(f\"Encodeado de la secuencia 'a b' con forma {test_sentence.shape}.\")"
      ]
    },
    {
      "cell_type": "markdown",
      "id": "16d828d1",
      "metadata": {
        "ExecuteTime": {
          "end_time": "2023-07-30T04:31:37.634951Z",
          "start_time": "2023-07-30T04:31:37.621658Z"
        },
        "deletable": false,
        "editable": false,
        "id": "16d828d1",
        "nbgrader": {
          "cell_type": "markdown",
          "checksum": "067f22f946e3fb34f11e220e7e8a387b",
          "grade": false,
          "grade_id": "cell-93bcd8db4fe6903f",
          "locked": true,
          "schema_version": 3,
          "solution": false,
          "task": false
        }
      },
      "source": [
        "Ahora que ya tenemos lo necesario de data para empezar a trabajar, demos paso a hablar un poco más de las RNN\n",
        "\n",
        "## Redes Neuronales Recurrentes (RNN)\n",
        "\n",
        "Una red neuronal recurrente (RNN) es una red neuronal conocida por modelar de manera efectiva datos secuenciales como el lenguaje, el habla y las secuencias de proteínas. Procesa datos de manera cíclica, aplicando los mismos cálculos a cada elemento de una secuencia. Este enfoque cíclico permite que la red utilice cálculos anteriores como una forma de memoria, lo que ayuda a hacer predicciones para cálculos futuros. Para comprender mejor este concepto, consideren la siguiente imagen.\n",
        "\n",
        "\n",
        "<img src=\"https://media.geeksforgeeks.org/wp-content/uploads/20230518134831/What-is-Recurrent-Neural-Network.webp\" alt=\"RNN\" />\n",
        "\n",
        "*Crédito de imagen al autor, imagen tomada de \"Introduction to Recurrent Neural Network\" de Aishwarya.27*\n",
        "\n",
        "Donde:\n",
        "* $x$ es la secuencia de input\n",
        "* $U$ es una matriz de pesos aplicada a una muestra de input dada\n",
        "* $V$ es una matriz de pesos usada para la computación recurrente para pasar la memroia en las secuencias\n",
        "* $W$ es una matriz de pesos usada para calcular la salida de cada paso\n",
        "* $h$ es el estado oculto (hidden state) (memoria de la red) para cada paso\n",
        "* $L$ es la salida resultante\n",
        "\n",
        "Cuando una red es extendida como se muestra, es más facil referirse a un paso $t$. Tenemos los siguientes calculos en la red\n",
        "\n",
        "* $h_t=f(U x_t + V h_{t-1}$ donde f es la función de activacion\n",
        "* $L_t = softmax(W h_t)$\n",
        "\n",
        "### Implementando una RNN\n",
        "\n",
        "Ahora pasaremos a inicializar nuestra RNN. Los pesos suelen inicializar de forma aleatoria, pero esta vez lo haremos de forma ortogonal para mejorar el rendimiento de nuestra red, y siguiendo las recomendaciones del paper dado abajo.\n",
        "\n",
        "Tenga cuidado al definir los elementos que se le piden, debido a que una mala dimensión causará que tenga resultados diferentes y errores al operar."
      ]
    },
    {
      "cell_type": "code",
      "execution_count": 12,
      "id": "e83d6394",
      "metadata": {
        "ExecuteTime": {
          "end_time": "2023-07-31T02:26:39.139269Z",
          "start_time": "2023-07-31T02:26:39.124344Z"
        },
        "deletable": false,
        "id": "e83d6394",
        "nbgrader": {
          "cell_type": "code",
          "checksum": "7aab983af86e5257de37bcca64632cee",
          "grade": false,
          "grade_id": "cell-8c9797de901a1f19",
          "locked": false,
          "schema_version": 3,
          "solution": true,
          "task": false
        }
      },
      "outputs": [],
      "source": [
        "np.random.seed(seed_)\n",
        "\n",
        "hidden_size = 50 # Numero de dimensiones en el hidden state\n",
        "vocab_size  = len(word_to_idx) # Tamaño del vocabulario\n",
        "\n",
        "def init_orthogonal(param):\n",
        "    \"\"\"\n",
        "    Initializes weight parameters orthogonally.\n",
        "    Inicializa los pesos ortogonalmente\n",
        "\n",
        "    Esta inicialización está dada por el siguiente paper:\n",
        "    https://arxiv.org/abs/1312.6120\n",
        "    \"\"\"\n",
        "    if param.ndim < 2:\n",
        "        raise ValueError(\"Only parameters with 2 or more dimensions are supported.\")\n",
        "\n",
        "    rows, cols = param.shape\n",
        "\n",
        "    new_param = np.random.randn(rows, cols)\n",
        "\n",
        "    if rows < cols:\n",
        "        new_param = new_param.T\n",
        "\n",
        "    # Calcular factorización QR\n",
        "    q, r = np.linalg.qr(new_param)\n",
        "\n",
        "    # Hacer Q uniforme de acuerdo a https://arxiv.org/pdf/math-ph/0609050.pdf\n",
        "    d = np.diag(r, 0)\n",
        "    ph = np.sign(d)\n",
        "    q *= ph\n",
        "\n",
        "    if rows < cols:\n",
        "        q = q.T\n",
        "\n",
        "    new_param = q\n",
        "\n",
        "    return new_param\n",
        "\n",
        "\n",
        "def init_rnn(hidden_size, vocab_size):\n",
        "    \"\"\"\n",
        "    Inicializa la RNN\n",
        "\n",
        "    Args:\n",
        "     hidden_size:  Dimensiones del hidden state\n",
        "     vocab_size: Dimensión del vocabulario\n",
        "    \"\"\"\n",
        "    # Aprox 5 lineas para\n",
        "    # Definir la matriz de pesos (input del hidden state)\n",
        "    # U =\n",
        "    # Definir la matriz de pesos de los calculos recurrentes\n",
        "    # V =\n",
        "    # Definir la matriz de pesos del hidden state a la salida\n",
        "    # W =\n",
        "    # Bias del hidden state\n",
        "    # b_hidden =\n",
        "    # Bias de la salida\n",
        "    # b_out =\n",
        "    # Para estas use np.zeros y asegurese de darle las dimensiones correcta a cada elemento\n",
        "    # YOUR CODE HERE\n",
        "    U = np.zeros((hidden_size, vocab_size))\n",
        "    V = np.zeros((hidden_size, hidden_size))\n",
        "    W = np.zeros((vocab_size, hidden_size))\n",
        "    b_hidden = np.zeros((hidden_size, 1))\n",
        "    b_out = np.zeros((vocab_size, 1))\n",
        "\n",
        "    # Aprox 3 lineas para inicializar los pesos de forma ortogonal usando la\n",
        "    # funcion init_orthogonal\n",
        "    # U =\n",
        "    # V =\n",
        "    # W =\n",
        "    # YOUR CODE HERE\n",
        "    U = init_orthogonal(U)\n",
        "    V = init_orthogonal(V)\n",
        "    W = init_orthogonal(W)\n",
        "\n",
        "    # Return parameters as a tuple\n",
        "    return U, V, W, b_hidden, b_out\n",
        "\n",
        "\n",
        "params = init_rnn(hidden_size=hidden_size, vocab_size=vocab_size)"
      ]
    },
    {
      "cell_type": "code",
      "execution_count": null,
      "id": "869c3065",
      "metadata": {
        "ExecuteTime": {
          "end_time": "2023-07-31T02:26:39.154917Z",
          "start_time": "2023-07-31T02:26:39.142253Z"
        },
        "deletable": false,
        "editable": false,
        "id": "869c3065",
        "nbgrader": {
          "cell_type": "code",
          "checksum": "5e16945840146775df25b57cf819b925",
          "grade": true,
          "grade_id": "cell-cebf0e26f26abbf2",
          "locked": true,
          "points": 20,
          "schema_version": 3,
          "solution": false,
          "task": false
        }
      },
      "outputs": [],
      "source": [
        "with tick.marks(5):\n",
        "    assert check_hash(params[0], ((50, 4), 80.24369675632171))\n",
        "\n",
        "with tick.marks(5):\n",
        "    assert check_hash(params[1], ((50, 50), 3333.838548574836))\n",
        "\n",
        "with tick.marks(5):\n",
        "    assert check_hash(params[2], ((4, 50), -80.6410290517092))\n",
        "\n",
        "with tick.marks(5):\n",
        "    assert check_hash(params[3], ((50, 1), 0.0))\n",
        "\n",
        "with tick.marks(5):\n",
        "    assert check_hash(params[4], ((4, 1), 0.0))"
      ]
    },
    {
      "cell_type": "markdown",
      "id": "4f6794e3",
      "metadata": {
        "deletable": false,
        "editable": false,
        "id": "4f6794e3",
        "nbgrader": {
          "cell_type": "markdown",
          "checksum": "3824d97af49f2479f2f568049ce82d01",
          "grade": false,
          "grade_id": "cell-0af0cee7ee982788",
          "locked": true,
          "schema_version": 3,
          "solution": false,
          "task": false
        }
      },
      "source": [
        "#### Funciones de Activación\n",
        "A continuación definiremos las funciones de activación a usar, sigmoide, tanh y softmax."
      ]
    },
    {
      "cell_type": "code",
      "execution_count": 38,
      "id": "dd9c9363",
      "metadata": {
        "ExecuteTime": {
          "end_time": "2023-07-31T02:26:39.170217Z",
          "start_time": "2023-07-31T02:26:39.156436Z"
        },
        "deletable": false,
        "id": "dd9c9363",
        "nbgrader": {
          "cell_type": "code",
          "checksum": "a8ce75b321c0cc6ca5c2e37786a296f6",
          "grade": false,
          "grade_id": "cell-cda959974e86198a",
          "locked": false,
          "schema_version": 3,
          "solution": true,
          "task": false
        }
      },
      "outputs": [],
      "source": [
        "def sigmoid(x, derivative=False):\n",
        "    \"\"\"\n",
        "    Calcula la función sigmoide para un array x\n",
        "\n",
        "    Args:\n",
        "     x: El array sobre el que trabajar\n",
        "     derivative: Si esta como verdadero, regresar el valor en la derivada\n",
        "    \"\"\"\n",
        "    x_safe = x + 1e-12 #Evitar ceros\n",
        "    # Aprox 1 linea sobre x_safe para implementar la funcion\n",
        "    # f =\n",
        "    # YOUR CODE HERE\n",
        "    f = 1/(1+np.exp(-x_safe))\n",
        "\n",
        "    # Regresa la derivada de la funcion\n",
        "    if derivative:\n",
        "        return f * (1 - f)\n",
        "    # Regresa el valor para el paso forward\n",
        "    else:\n",
        "        return f\n",
        "\n",
        "def tanh(x, derivative=False):\n",
        "    \"\"\"\n",
        "    Calcula la función tanh para un array x\n",
        "\n",
        "    Args:\n",
        "     x: El array sobre el que trabajar\n",
        "     derivative: Si esta como verdadero, regresar el valor en la derivada\n",
        "    \"\"\"\n",
        "    x_safe = x + 1e-12 #Evitar ceros\n",
        "    # Aprox 1 linea sobre x_safe para implementar la funcion\n",
        "    # f =\n",
        "    # YOUR CODE HERE\n",
        "    f = np.tanh(x_safe)\n",
        "\n",
        "    # Regresa la derivada de la funcion\n",
        "    if derivative:\n",
        "        return 1-f**2\n",
        "    # Regresa el valor para el paso forward\n",
        "    else:\n",
        "        return f\n",
        "\n",
        "def softmax(x, derivative=False):\n",
        "    \"\"\"\n",
        "    Calcula la función softmax para un array x\n",
        "\n",
        "    Args:\n",
        "     x: El array sobre el que trabajar\n",
        "     derivative: Si esta como verdadero, regresar el valor en la derivada\n",
        "    \"\"\"\n",
        "    x_safe = x + 1e-12 #Evitar ceros\n",
        "    # Aprox 1 linea sobre x_safe para implementar la funcion\n",
        "    # f =\n",
        "    # YOUR CODE HERE\n",
        "    exp = np.exp(x_safe)\n",
        "    f = exp/np.sum(exp)\n",
        "\n",
        "    # Regresa la derivada de la funcion\n",
        "    if derivative:\n",
        "        pass # No se necesita en backprog\n",
        "    # Regresa el valor para el paso forward\n",
        "    else:\n",
        "        return f"
      ]
    },
    {
      "cell_type": "code",
      "execution_count": 15,
      "id": "86e6f5b7",
      "metadata": {
        "ExecuteTime": {
          "end_time": "2023-07-31T02:26:39.185565Z",
          "start_time": "2023-07-31T02:26:39.172220Z"
        },
        "colab": {
          "base_uri": "https://localhost:8080/",
          "height": 181
        },
        "deletable": false,
        "editable": false,
        "id": "86e6f5b7",
        "nbgrader": {
          "cell_type": "code",
          "checksum": "88b15c243905bba412ed5b4ba65b5be0",
          "grade": true,
          "grade_id": "cell-a2ca064c7c460245",
          "locked": true,
          "points": 15,
          "schema_version": 3,
          "solution": false,
          "task": false
        },
        "outputId": "e4ad4326-ad4d-4404-c239-7d9d5370b8f4"
      },
      "outputs": [
        {
          "data": {
            "text/html": [
              "\n",
              "        <div class=\"alert alert-box alert-success\">\n",
              "        <h1> <!--{id:\"CORRECTMARK\", marks:\"5\"}--> \n",
              "         ✓ [5 marks] \n",
              "         </h1> </div>"
            ],
            "text/plain": [
              "<IPython.core.display.HTML object>"
            ]
          },
          "metadata": {},
          "output_type": "display_data"
        },
        {
          "data": {
            "text/html": [
              "\n",
              "        <div class=\"alert alert-box alert-success\">\n",
              "        <h1> <!--{id:\"CORRECTMARK\", marks:\"5\"}--> \n",
              "         ✓ [5 marks] \n",
              "         </h1> </div>"
            ],
            "text/plain": [
              "<IPython.core.display.HTML object>"
            ]
          },
          "metadata": {},
          "output_type": "display_data"
        },
        {
          "data": {
            "text/html": [
              "\n",
              "        <div class=\"alert alert-box alert-success\">\n",
              "        <h1> <!--{id:\"CORRECTMARK\", marks:\"5\"}--> \n",
              "         ✓ [5 marks] \n",
              "         </h1> </div>"
            ],
            "text/plain": [
              "<IPython.core.display.HTML object>"
            ]
          },
          "metadata": {},
          "output_type": "display_data"
        }
      ],
      "source": [
        "with tick.marks(5):\n",
        "    assert check_hash(sigmoid(params[0][0]), ((4,), 6.997641543410888))\n",
        "\n",
        "with tick.marks(5):\n",
        "    assert check_hash(tanh(params[0][0]), ((4,), -0.007401604025076086))\n",
        "\n",
        "with tick.marks(5):\n",
        "    assert check_hash(softmax(params[0][0]), ((4,), 3.504688021096135))"
      ]
    },
    {
      "cell_type": "markdown",
      "id": "93ef9853",
      "metadata": {
        "deletable": false,
        "editable": false,
        "id": "93ef9853",
        "nbgrader": {
          "cell_type": "markdown",
          "checksum": "d75af82e072ddb4a0c162e849158bcc1",
          "grade": false,
          "grade_id": "cell-f6476b1310ebea2a",
          "locked": true,
          "schema_version": 3,
          "solution": false,
          "task": false
        }
      },
      "source": [
        "#### Implementación del paso Forward\n",
        "Ahora es el momento de implementar el paso forward usando lo que hemos implementado hasta ahora"
      ]
    },
    {
      "cell_type": "code",
      "execution_count": 16,
      "id": "9bb06776",
      "metadata": {
        "ExecuteTime": {
          "end_time": "2023-07-31T02:26:39.200990Z",
          "start_time": "2023-07-31T02:26:39.187073Z"
        },
        "deletable": false,
        "id": "9bb06776",
        "nbgrader": {
          "cell_type": "code",
          "checksum": "65fdf4e2be5d9227b721ebfba3a76b88",
          "grade": false,
          "grade_id": "cell-d8f4885a4cccd525",
          "locked": false,
          "schema_version": 3,
          "solution": true,
          "task": false
        }
      },
      "outputs": [],
      "source": [
        "def forward_pass(inputs, hidden_state, params):\n",
        "    \"\"\"\n",
        "    Calcula el paso forward de RNN\n",
        "\n",
        "    Args:\n",
        "     inputs: Seccuencia de input a ser procesada\n",
        "     hidden_state: Un estado inicializado hidden state\n",
        "     params: Parametros de la RNN\n",
        "    \"\"\"\n",
        "    # Obtener los parametros\n",
        "    U, V, W, b_hidden, b_out = params\n",
        "\n",
        "    # Crear una lista para guardar las salidas y los hidden states\n",
        "    outputs, hidden_states = [], []\n",
        "\n",
        "    # Para cada elemento en la secuencia input\n",
        "    for t in range(len(inputs)):\n",
        "\n",
        "        # Aprox 1 line para\n",
        "        # Calculo del nuevo hidden state usando tanh\n",
        "        # Recuerden que al ser el hidden state tienen que usar los pesos del input multiplicado por el input\n",
        "        #  a esto sumarle los pesos recurrentes por el hidden state y finalmente sumarle b\n",
        "        # hidden_state =\n",
        "        hidden_state = tanh(np.dot(U, inputs[t]) + np.dot(V, hidden_state) + b_hidden)\n",
        "\n",
        "        # Aprox 1 linea\n",
        "        # para el calculo del output\n",
        "        # Al ser la salida, deben usar softmax sobre la multiplicación de pesos de salida con el hidden_state actual\n",
        "        #   es decir el calculado en el paso anterior y siempre sumarle su bias correspondiente\n",
        "        # out =\n",
        "        out = softmax(np.dot(W, hidden_state) + b_out)\n",
        "\n",
        "        # Guardamos los resultados y continuamos\n",
        "        outputs.append(out)\n",
        "        hidden_states.append(hidden_state.copy())\n",
        "\n",
        "    return outputs, hidden_states"
      ]
    },
    {
      "cell_type": "code",
      "execution_count": 17,
      "id": "1c095221",
      "metadata": {
        "ExecuteTime": {
          "end_time": "2023-07-31T02:26:39.216845Z",
          "start_time": "2023-07-31T02:26:39.202985Z"
        },
        "colab": {
          "base_uri": "https://localhost:8080/",
          "height": 179
        },
        "deletable": false,
        "editable": false,
        "id": "1c095221",
        "nbgrader": {
          "cell_type": "code",
          "checksum": "b6b30539fff48162b40bf58b4d04a611",
          "grade": true,
          "grade_id": "cell-9db576244efaba24",
          "locked": true,
          "points": 5,
          "schema_version": 3,
          "solution": false,
          "task": false
        },
        "outputId": "5a7521c0-7209-4245-cbe9-345864e5cc8c"
      },
      "outputs": [
        {
          "name": "stdout",
          "output_type": "stream",
          "text": [
            "Secuencia Input:\n",
            "['a', 'a', 'a', 'a', 'a', 'a', 'a', 'a', 'b', 'b', 'b', 'b', 'b', 'b', 'b', 'b']\n",
            "Secuencia Target:\n",
            "['a', 'a', 'a', 'a', 'a', 'a', 'a', 'b', 'b', 'b', 'b', 'b', 'b', 'b', 'b', 'EOS']\n",
            "Secuencia Predicha:\n",
            "['a', 'b', 'a', 'a', 'a', 'EOS', 'EOS', 'EOS', 'EOS', 'EOS', 'EOS', 'EOS', 'b', 'b', 'b', 'b']\n"
          ]
        },
        {
          "data": {
            "text/html": [
              "\n",
              "        <div class=\"alert alert-box alert-success\">\n",
              "        <h1> <!--{id:\"CORRECTMARK\", marks:\"5\"}--> \n",
              "         ✓ [5 marks] \n",
              "         </h1> </div>"
            ],
            "text/plain": [
              "<IPython.core.display.HTML object>"
            ]
          },
          "metadata": {},
          "output_type": "display_data"
        }
      ],
      "source": [
        "test_input_sequence, test_target_sequence = training_set[0]\n",
        "\n",
        "# One-hot encode\n",
        "test_input = one_hot_encode_sequence(test_input_sequence, vocab_size)\n",
        "test_target = one_hot_encode_sequence(test_target_sequence, vocab_size)\n",
        "\n",
        "# Init hidden state con zeros\n",
        "hidden_state = np.zeros((hidden_size, 1))\n",
        "\n",
        "outputs, hidden_states = forward_pass(test_input, hidden_state, params)\n",
        "\n",
        "print(\"Secuencia Input:\")\n",
        "print(test_input_sequence)\n",
        "\n",
        "print(\"Secuencia Target:\")\n",
        "print(test_target_sequence)\n",
        "\n",
        "print(\"Secuencia Predicha:\")\n",
        "print([idx_to_word[np.argmax(output)] for output in outputs])\n",
        "\n",
        "with tick.marks(5):\n",
        "    assert check_hash(outputs, ((16, 4, 1), 519.7419046193046))"
      ]
    },
    {
      "cell_type": "markdown",
      "id": "ef14fc0c",
      "metadata": {
        "deletable": false,
        "editable": false,
        "id": "ef14fc0c",
        "nbgrader": {
          "cell_type": "markdown",
          "checksum": "c29e3a40c409913f6d3d0506d1b9d69f",
          "grade": false,
          "grade_id": "cell-8419bbbbfb1d7d89",
          "locked": true,
          "schema_version": 3,
          "solution": false,
          "task": false
        }
      },
      "source": [
        "#### Implementación del paso Backward\n",
        "\n",
        "Ahora es momento de implementar el paso backward.\n",
        "Si se pierden, remitanse a las ecuaciones e imagen dadas previamente.\n",
        "\n",
        "Usaremos una función auxiliar para evitar la explición del gradiente. Esta tecnica suele funcionar muy bien, si quieren leer más sobre esto pueden consultar estos enlances\n",
        "\n",
        "[Understanding Gradient Clipping (and How It Can Fix Exploding Gradients Problem)](https://neptune.ai/blog/understanding-gradient-clipping-and-how-it-can-fix-exploding-gradients-problem)\n",
        "\n",
        "[What exactly happens in gradient clipping by norm?](https://ai.stackexchange.com/questions/31991/what-exactly-happens-in-gradient-clipping-by-norm)"
      ]
    },
    {
      "cell_type": "code",
      "execution_count": 18,
      "id": "09c404d5",
      "metadata": {
        "ExecuteTime": {
          "end_time": "2023-07-31T02:26:39.232009Z",
          "start_time": "2023-07-31T02:26:39.217875Z"
        },
        "deletable": false,
        "id": "09c404d5",
        "nbgrader": {
          "cell_type": "code",
          "checksum": "7357465e411ae111b649d95e4fd7d6eb",
          "grade": false,
          "grade_id": "cell-9c36e2544990bfd5",
          "locked": false,
          "schema_version": 3,
          "solution": true,
          "task": false
        }
      },
      "outputs": [],
      "source": [
        "def clip_gradient_norm(grads, max_norm=0.25):\n",
        "    \"\"\"\n",
        "    Clipea (recorta?) el gradiente para tener una norma máxima de `max_norm`\n",
        "    Esto ayudará a prevenir el problema de la gradiente explosiva (BOOM!)\n",
        "    \"\"\"\n",
        "    # Setea el máximo de la norma para que sea flotante\n",
        "    max_norm = float(max_norm)\n",
        "    total_norm = 0\n",
        "\n",
        "    # Calculamos la norma L2 al cuadrado para cada gradiente y agregamos estas a la norma total\n",
        "    for grad in grads:\n",
        "        grad_norm = np.sum(np.power(grad, 2))\n",
        "        total_norm += grad_norm\n",
        "    # Cuadrado de la normal total\n",
        "    total_norm = np.sqrt(total_norm)\n",
        "\n",
        "    # Calculamos el coeficiente de recorte\n",
        "    clip_coef = max_norm / (total_norm + 1e-6)\n",
        "\n",
        "    # Si el total de la norma es más grande que el máximo permitido, se recorta la gradiente\n",
        "    if clip_coef < 1:\n",
        "        for grad in grads:\n",
        "            grad *= clip_coef\n",
        "    return grads\n",
        "\n",
        "\n",
        "def backward_pass(inputs, outputs, hidden_states, targets, params):\n",
        "    \"\"\"\n",
        "    Calcula el paso backward de la RNN\n",
        "\n",
        "    Args:\n",
        "     inputs: secuencia de input\n",
        "     outputs: secuencia de output del forward\n",
        "     hidden_states: secuencia de los hidden_state del forward\n",
        "     targets: secuencia target\n",
        "     params: parametros de la RNN\n",
        "    \"\"\"\n",
        "\n",
        "    # Obtener los parametros\n",
        "    U, V, W, b_hidden, b_out = params\n",
        "\n",
        "    # Inicializamos las gradientes como cero\n",
        "    d_U, d_V, d_W = np.zeros_like(U), np.zeros_like(V), np.zeros_like(W)\n",
        "    d_b_hidden, d_b_out = np.zeros_like(b_hidden), np.zeros_like(b_out)\n",
        "\n",
        "    # Llevar el record de las derivadas de los hidden state y las perdidas (loss)\n",
        "    d_h_next = np.zeros_like(hidden_states[0])\n",
        "    loss = 0\n",
        "\n",
        "    # Iteramos para cada elemento en la secuencia output\n",
        "    for t in reversed(range(len(outputs))):\n",
        "        # Calcular la perdida cross-entry\n",
        "        loss += -np.mean(np.log(outputs[t]+1e-12) * targets[t])\n",
        "\n",
        "        # Backpropagate en los output\n",
        "        d_o = outputs[t].copy()\n",
        "        d_o[np.argmax(targets[t])] -= 1\n",
        "\n",
        "        # Backpropagation de W\n",
        "        d_W += np.dot(d_o, hidden_states[t].T)\n",
        "        d_b_out += d_o\n",
        "\n",
        "        # Backpropagation de h\n",
        "        d_h = np.dot(W.T, d_o) + d_h_next\n",
        "\n",
        "        # Backpropagation en la funcion de activacion tanh\n",
        "        d_f = tanh(hidden_states[t], derivative=True) * d_h\n",
        "        d_b_hidden += d_f\n",
        "\n",
        "        # Backpropagation en U\n",
        "        d_U += np.dot(d_f, inputs[t].T)\n",
        "\n",
        "        # Backpropagation en V\n",
        "        d_V += np.dot(d_f, hidden_states[t-1].T)\n",
        "\n",
        "        d_h_next = np.dot(V.T, d_f)\n",
        "\n",
        "    # Empaquetar las gradientes\n",
        "    grads = d_U, d_V, d_W, d_b_hidden, d_b_out\n",
        "\n",
        "    # Corte de gradientes\n",
        "    grads = clip_gradient_norm(grads)\n",
        "\n",
        "    return loss, grads"
      ]
    },
    {
      "cell_type": "code",
      "execution_count": 19,
      "id": "21b7b1d7",
      "metadata": {
        "ExecuteTime": {
          "end_time": "2023-07-31T02:26:39.248222Z",
          "start_time": "2023-07-31T02:26:39.234016Z"
        },
        "colab": {
          "base_uri": "https://localhost:8080/",
          "height": 235
        },
        "deletable": false,
        "editable": false,
        "id": "21b7b1d7",
        "nbgrader": {
          "cell_type": "code",
          "checksum": "e114a2a7bf6752fd90bf75a740001356",
          "grade": true,
          "grade_id": "cell-65758aa67361b673",
          "locked": true,
          "points": 20,
          "schema_version": 3,
          "solution": false,
          "task": false
        },
        "outputId": "718c90e0-9c57-403d-b3c6-4df63e31ad7f"
      },
      "outputs": [
        {
          "data": {
            "text/html": [
              "\n",
              "        <div class=\"alert alert-box alert-success\">\n",
              "        <h1> <!--{id:\"CORRECTMARK\", marks:\"5\"}--> \n",
              "         ✓ [5 marks] \n",
              "         </h1> </div>"
            ],
            "text/plain": [
              "<IPython.core.display.HTML object>"
            ]
          },
          "metadata": {},
          "output_type": "display_data"
        },
        {
          "data": {
            "text/html": [
              "\n",
              "        <div class=\"alert alert-box alert-success\">\n",
              "        <h1> <!--{id:\"CORRECTMARK\", marks:\"5\"}--> \n",
              "         ✓ [5 marks] \n",
              "         </h1> </div>"
            ],
            "text/plain": [
              "<IPython.core.display.HTML object>"
            ]
          },
          "metadata": {},
          "output_type": "display_data"
        },
        {
          "data": {
            "text/html": [
              "\n",
              "        <div class=\"alert alert-box alert-success\">\n",
              "        <h1> <!--{id:\"CORRECTMARK\", marks:\"5\"}--> \n",
              "         ✓ [5 marks] \n",
              "         </h1> </div>"
            ],
            "text/plain": [
              "<IPython.core.display.HTML object>"
            ]
          },
          "metadata": {},
          "output_type": "display_data"
        },
        {
          "data": {
            "text/html": [
              "\n",
              "        <div class=\"alert alert-box alert-success\">\n",
              "        <h1> <!--{id:\"CORRECTMARK\", marks:\"5\"}--> \n",
              "         ✓ [5 marks] \n",
              "         </h1> </div>"
            ],
            "text/plain": [
              "<IPython.core.display.HTML object>"
            ]
          },
          "metadata": {},
          "output_type": "display_data"
        }
      ],
      "source": [
        "loss, grads = backward_pass(test_input, outputs, hidden_states, test_target, params)\n",
        "\n",
        "with tick.marks(5):\n",
        "    assert check_scalar(loss, '0xf0c8ccc9')\n",
        "\n",
        "with tick.marks(5):\n",
        "    assert check_hash(grads[0], ((50, 4), -16.16536590645467))\n",
        "\n",
        "with tick.marks(5):\n",
        "    assert check_hash(grads[1], ((50, 50), -155.12594909703253))\n",
        "\n",
        "with tick.marks(5):\n",
        "    assert check_hash(grads[2], ((4, 50), 1.5957812992239038))"
      ]
    },
    {
      "cell_type": "markdown",
      "id": "481b9abc",
      "metadata": {
        "deletable": false,
        "editable": false,
        "id": "481b9abc",
        "nbgrader": {
          "cell_type": "markdown",
          "checksum": "853d497293018f4e60eeaf31fa548bfd",
          "grade": false,
          "grade_id": "cell-06bca206671d7909",
          "locked": true,
          "schema_version": 3,
          "solution": false,
          "task": false
        }
      },
      "source": [
        "#### Optimización\n",
        "\n",
        "Considerando que ya tenemos el paso forward y podemos calcular gradientes con el backpropagation, ya podemos pasar a entrenar nuestra red. Para esto necesitaremos un optimizador. Una forma común y sencilla es implementar la gradiente descediente. Recuerden la regla de optimizacion\n",
        "$$\n",
        "θ = θ - α * ∇J(θ)\n",
        "$$\n",
        "\n",
        "* $θ$ son los parametros del modelo\n",
        "* $α$ es el learning rate\n",
        "* $∇J(θ)$ representa la gradiente del costo J con respecto de los parametros"
      ]
    },
    {
      "cell_type": "code",
      "execution_count": 20,
      "id": "7d0649f4",
      "metadata": {
        "ExecuteTime": {
          "end_time": "2023-07-31T02:26:39.263752Z",
          "start_time": "2023-07-31T02:26:39.249733Z"
        },
        "deletable": false,
        "editable": false,
        "id": "7d0649f4",
        "nbgrader": {
          "cell_type": "code",
          "checksum": "a816758f7791729583e774286d7ab13f",
          "grade": false,
          "grade_id": "cell-54add6e82ed32f01",
          "locked": true,
          "schema_version": 3,
          "solution": false,
          "task": false
        }
      },
      "outputs": [],
      "source": [
        "def update_parameters(params, grads, lr=1e-3):\n",
        "    # Iteramos sobre los parametros y las gradientes\n",
        "    for param, grad in zip(params, grads):\n",
        "        param -= lr * grad\n",
        "\n",
        "    return params"
      ]
    },
    {
      "cell_type": "markdown",
      "id": "985f024f",
      "metadata": {
        "deletable": false,
        "editable": false,
        "id": "985f024f",
        "nbgrader": {
          "cell_type": "markdown",
          "checksum": "09c0aab76534abb28f1e0fa5f0bbd13c",
          "grade": false,
          "grade_id": "cell-52ac5cccec0e2107",
          "locked": true,
          "schema_version": 3,
          "solution": false,
          "task": false
        }
      },
      "source": [
        "#### Entrenamiento\n",
        "Debemos establecer un ciclo de entrenamiento completo que involucre un paso forward, un paso backprop, un paso de optimización y validación. Se espera que el proceso de training dure aproximadamente 5 minutos (o menos), lo que le brinda la oportunidad de continuar leyendo mientras se ejecuta&#x1F61C;\n",
        "\n",
        "Noten que estaremos viendo la perdida en el de validación (no en el de testing) esto se suele hacer para ir observando que tan bien va comportandose el modelo en terminos de generalización. Muchas veces es más recomendable ir viendo como evoluciona la métrica de desempeño principal (accuracy, recall, etc)."
      ]
    },
    {
      "cell_type": "code",
      "execution_count": 21,
      "id": "1db77ee0",
      "metadata": {
        "ExecuteTime": {
          "end_time": "2023-07-31T02:29:37.140050Z",
          "start_time": "2023-07-31T02:26:39.266753Z"
        },
        "colab": {
          "base_uri": "https://localhost:8080/"
        },
        "deletable": false,
        "id": "1db77ee0",
        "nbgrader": {
          "cell_type": "code",
          "checksum": "153355a9b2d4580f952a5a88a18762bf",
          "grade": false,
          "grade_id": "cell-e184f5f494d827a1",
          "locked": false,
          "schema_version": 3,
          "solution": true,
          "task": false
        },
        "outputId": "2211a569-5613-43d9-fe20-16031bb9e449"
      },
      "outputs": [
        {
          "name": "stdout",
          "output_type": "stream",
          "text": [
            "Epoca 0, training loss: 4.05046509496538, validation loss: 4.801971835967156\n",
            "Epoca 100, training loss: 2.7298340765749436, validation loss: 3.2320576163982673\n",
            "Epoca 200, training loss: 2.1094146557367317, validation loss: 2.498052632884414\n",
            "Epoca 300, training loss: 1.8235746981413403, validation loss: 2.1986770709845307\n",
            "Epoca 400, training loss: 1.6884087861997366, validation loss: 2.0770786080234966\n",
            "Epoca 500, training loss: 1.6129170568126512, validation loss: 2.0163543941716577\n",
            "Epoca 600, training loss: 1.5624028954062004, validation loss: 1.9780311638492243\n",
            "Epoca 700, training loss: 1.523501919791708, validation loss: 1.9496130467843353\n",
            "Epoca 800, training loss: 1.4895828031292173, validation loss: 1.9248315278145829\n",
            "Epoca 900, training loss: 1.4558865884071515, validation loss: 1.897822091215436\n",
            "Epoca 1000, training loss: 1.4173709332614925, validation loss: 1.8600798176555233\n",
            "Epoca 1100, training loss: 1.3681783634403943, validation loss: 1.7993697026413993\n",
            "Epoca 1200, training loss: 1.3051122158818893, validation loss: 1.7081695076503578\n",
            "Epoca 1300, training loss: 1.233098512812504, validation loss: 1.5999314734390093\n",
            "Epoca 1400, training loss: 1.161990052253861, validation loss: 1.4998577602386738\n",
            "Epoca 1500, training loss: 1.1035554777966456, validation loss: 1.4282638416110451\n",
            "Epoca 1600, training loss: 1.0680633416284253, validation loss: 1.395874591587122\n",
            "Epoca 1700, training loss: 1.0550402179563672, validation loss: 1.3963674481755972\n",
            "Epoca 1800, training loss: 1.0570111001893747, validation loss: 1.418576044385189\n",
            "Epoca 1900, training loss: 1.0640880623573388, validation loss: 1.4524183517051141\n"
          ]
        }
      ],
      "source": [
        "# Hyper parametro\n",
        "num_epochs = 2000\n",
        "\n",
        "# Init una nueva RNN\n",
        "params = init_rnn(hidden_size=hidden_size, vocab_size=vocab_size)\n",
        "\n",
        "# Init hiddent state con ceros\n",
        "hidden_state = np.zeros((hidden_size, 1))\n",
        "\n",
        "# Rastreo de perdida (loss) para training y validacion\n",
        "training_loss, validation_loss = [], []\n",
        "\n",
        "# Iteramos para cada epoca\n",
        "for i in range(num_epochs):\n",
        "\n",
        "    # Perdidas en zero\n",
        "    epoch_training_loss = 0\n",
        "    epoch_validation_loss = 0\n",
        "\n",
        "    # Para cada secuencia en el grupo de validación\n",
        "    for inputs, targets in validation_set:\n",
        "\n",
        "        # One-hot encode el input y el target\n",
        "        inputs_one_hot = one_hot_encode_sequence(inputs, vocab_size)\n",
        "        targets_one_hot = one_hot_encode_sequence(targets, vocab_size)\n",
        "\n",
        "        # Re-init el hidden state\n",
        "        hidden_state = np.zeros_like(hidden_state)\n",
        "\n",
        "        # Aprox 1 line para el paso forward\n",
        "        # outputs, hidden_states =\n",
        "        # YOUR CODE HERE\n",
        "        outputs, hidden_states = forward_pass(inputs_one_hot, hidden_state, params)\n",
        "\n",
        "        # Aprox 1 line para el paso backward\n",
        "        # loss, _ =\n",
        "        # YOUR CODE HERE\n",
        "        loss,_ = backward_pass(inputs_one_hot, outputs, hidden_states,targets_one_hot, params)\n",
        "\n",
        "        # Actualización de perdida\n",
        "        epoch_validation_loss += loss\n",
        "\n",
        "    # For each sentence in training set\n",
        "    for inputs, targets in training_set:\n",
        "\n",
        "        # One-hot encode el input y el target\n",
        "        inputs_one_hot = one_hot_encode_sequence(inputs, vocab_size)\n",
        "        targets_one_hot = one_hot_encode_sequence(targets, vocab_size)\n",
        "\n",
        "        # Re-init el hidden state\n",
        "        hidden_state = np.zeros_like(hidden_state)\n",
        "\n",
        "        # Aprox 1 line para el paso forward\n",
        "        # outputs, hidden_states =\n",
        "        # YOUR CODE HERE\n",
        "        outputs, hidden_states = forward_pass(inputs_one_hot, hidden_state, params)\n",
        "\n",
        "        # Aprox 1 line para el paso backward\n",
        "        # loss, grads =\n",
        "        # YOUR CODE HERE\n",
        "        loss, grads = backward_pass(inputs_one_hot, outputs, hidden_states,targets_one_hot, params)\n",
        "        # Validar si la perdida es nan, llegamos al problema del vanishing gradient POOF!\n",
        "        if np.isnan(loss):\n",
        "            raise ValueError(\"La gradiente se desvanecio... POOF!\")\n",
        "\n",
        "        # Actualización de parámetros\n",
        "        params = update_parameters(params, grads, lr=3e-4)\n",
        "\n",
        "        # Actualización de perdida\n",
        "        epoch_training_loss += loss\n",
        "\n",
        "    # Guardar la perdida para graficar\n",
        "    training_loss.append(epoch_training_loss/len(training_set))\n",
        "    validation_loss.append(epoch_validation_loss/len(validation_set))\n",
        "\n",
        "    # Mostrar la perdida cada 100 epocas\n",
        "    if i % 100 == 0:\n",
        "        print(f'Epoca {i}, training loss: {training_loss[-1]}, validation loss: {validation_loss[-1]}')"
      ]
    },
    {
      "cell_type": "code",
      "execution_count": 22,
      "id": "37307e6b",
      "metadata": {
        "ExecuteTime": {
          "end_time": "2023-07-31T02:29:37.294101Z",
          "start_time": "2023-07-31T02:29:37.141603Z"
        },
        "colab": {
          "base_uri": "https://localhost:8080/",
          "height": 611
        },
        "deletable": false,
        "editable": false,
        "id": "37307e6b",
        "nbgrader": {
          "cell_type": "code",
          "checksum": "9da3dd102d85550608abf1579a85656f",
          "grade": true,
          "grade_id": "cell-67387da31438dd57",
          "locked": true,
          "points": 10,
          "schema_version": 3,
          "solution": false,
          "task": false
        },
        "outputId": "ca79254e-deea-447e-f8ca-686e44b7a2d4"
      },
      "outputs": [
        {
          "name": "stdout",
          "output_type": "stream",
          "text": [
            "Secuencia Input:\n",
            "['a', 'a', 'a', 'a', 'a', 'a', 'a', 'a', 'a', 'a', 'a', 'b', 'b', 'b', 'b', 'b', 'b', 'b', 'b', 'b', 'b', 'b']\n",
            "Secuencia Target:\n",
            "['a', 'a', 'a', 'a', 'a', 'a', 'a', 'a', 'a', 'a', 'b', 'b', 'b', 'b', 'b', 'b', 'b', 'b', 'b', 'b', 'b', 'EOS']\n",
            "Secuencia Predicha:\n",
            "['a', 'a', 'a', 'a', 'a', 'b', 'b', 'b', 'b', 'b', 'b', 'b', 'b', 'b', 'b', 'b', 'b', 'b', 'b', 'b', 'EOS', 'EOS']\n"
          ]
        },
        {
          "data": {
            "image/png": "[encoded data removed]",
            "text/plain": [
              "<Figure size 640x480 with 1 Axes>"
            ]
          },
          "metadata": {},
          "output_type": "display_data"
        },
        {
          "data": {
            "text/html": [
              "\n",
              "        <div class=\"alert alert-box alert-success\">\n",
              "        <h1> <!--{id:\"CORRECTMARK\", marks:\"10\"}--> \n",
              "         ✓ [10 marks] \n",
              "         </h1> </div>"
            ],
            "text/plain": [
              "<IPython.core.display.HTML object>"
            ]
          },
          "metadata": {},
          "output_type": "display_data"
        }
      ],
      "source": [
        "# Veamos la primera secuencia en el test set\n",
        "inputs, targets = test_set[1]\n",
        "\n",
        "# One-hot encode el input y el target\n",
        "inputs_one_hot = one_hot_encode_sequence(inputs, vocab_size)\n",
        "targets_one_hot = one_hot_encode_sequence(targets, vocab_size)\n",
        "\n",
        "# Init el hidden state con ceros\n",
        "hidden_state = np.zeros((hidden_size, 1))\n",
        "\n",
        "# Hacemos el pase forward para evalular nuestra secuencia\n",
        "outputs, hidden_states = forward_pass(inputs_one_hot, hidden_state, params)\n",
        "output_sentence = [idx_to_word[np.argmax(output)] for output in outputs]\n",
        "print(\"Secuencia Input:\")\n",
        "print(inputs)\n",
        "\n",
        "print(\"Secuencia Target:\")\n",
        "print(targets)\n",
        "\n",
        "print(\"Secuencia Predicha:\")\n",
        "print([idx_to_word[np.argmax(output)] for output in outputs])\n",
        "\n",
        "# Graficamos la perdida\n",
        "epoch = np.arange(len(training_loss))\n",
        "plt.figure()\n",
        "plt.plot(epoch, training_loss, 'r', label='Training loss',)\n",
        "plt.plot(epoch, validation_loss, 'b', label='Validation loss')\n",
        "plt.legend()\n",
        "plt.xlabel('Epoch'), plt.ylabel('NLL')\n",
        "plt.show()\n",
        "\n",
        "with tick.marks(10):\n",
        "    assert check_hash(outputs, ((22, 4, 1), 967.3924585924929))"
      ]
    },
    {
      "cell_type": "markdown",
      "id": "8d3c223d",
      "metadata": {
        "ExecuteTime": {
          "end_time": "2023-07-30T07:01:10.253203Z",
          "start_time": "2023-07-30T07:01:10.243032Z"
        },
        "id": "8d3c223d"
      },
      "source": [
        "#### Preguntas\n",
        "\n",
        "Ya hemos visto el funcionamiento general de nuestra red RNN, viendo las gráficas de arriba, **responda** lo siguiente dentro de esta celda\n",
        "\n",
        "* ¿Qué interpretación le da a la separación de las graficas de training y validation?\n",
        "La separación entre las gráficas de training y validation indica cómo se está comportando el modelo con respecto a los datos de entrenamiento y los datos los de validación. Si la separación es grande, podría indicar que el modelo está sobreajustando a los datos de entrenamiento y no generaliza bien a datos nuevos. Si la separación es pequeña, podría indicar que el modelo generaliza bien a datos nuevos y no está sobreajustando.\n",
        "\n",
        "* ¿Cree que es un buen modelo basado solamente en el loss?\n",
        "No es suficiente evaluar el modelo únicamente en función del loss. Aunque el loss es una métrica importante para medir el rendimiento del modelo, no siempre es suficiente para entender completamente su desempeño. Es necesario considerar otras métricas de evaluación y realizar pruebas en datos completamente nuevos para tener una visión más completa del rendimiento del modelo.\n",
        "\n",
        "* ¿Cómo deberían de verse esas gráficas en un modelo ideal?\n",
        "En un modelo ideal, las gráficas de training y validation mostrarían pérdidas similares y convergentes hacia valores bajos. Esto indicaría que el modelo está aprendiendo bien los patrones en los datos de entrenamiento y generaliza correctamente a datos nuevos. Ambas pérdidas deberían disminuir de manera relativamente estable y no debería haber una separación significativa entre ellas y no debería haber signos de sobreajuste en los datos de entrenamiento, lo que implicaría que el modelo está aprendiendo patrones genuinos en los datos y no memorizando ejemplos específicos."
      ]
    },
    {
      "cell_type": "markdown",
      "id": "eda0001d",
      "metadata": {
        "deletable": false,
        "editable": false,
        "id": "eda0001d",
        "nbgrader": {
          "cell_type": "markdown",
          "checksum": "33717eb5a11832cbcf3afe049aa819f2",
          "grade": false,
          "grade_id": "cell-3b641dbd0cd4a7fa",
          "locked": true,
          "schema_version": 3,
          "solution": false,
          "task": false
        }
      },
      "source": [
        "## Parte 2 - Construyendo una Red Neuronal LSTM\n",
        "\n",
        "**Créditos:** La segunda parte de este laboratorio está tomado y basado en uno de los laboratorios dados dentro del curso de \"Deep Learning\" de Jes Frellsen (DeepLearningDTU)\n",
        "\n",
        "\n",
        "Consideren leer el siguiente blog para mejorar el entendimiento de este tema: http://colah.github.io/posts/2015-08-Understanding-LSTMs/\n",
        "\n",
        "La RNN estándar enfrenta un problema de gradientes que desaparecen, lo que dificulta la retención de memoria en secuencias más largas. Para hacer frente a estos desafíos, se introdujeron algunas variantes.\n",
        "\n",
        "Los dos tipos principales son la celda de memoria a corto plazo (LSTM) y la unidad recurrente cerrada (GRU), las cuales demuestran una capacidad mejorada para conservar y utilizar la memoria en pasos de tiempo posteriores.\n",
        "\n",
        "En este ejercicio, nuestro enfoque estará en LSTM, pero los principios aprendidos aquí también se pueden aplicar fácilmente para implementar GRU.\n",
        "\n",
        "Recordemos una de las imagenes que vimos en clase\n",
        "\n",
        "<img src=\"https://www.researchgate.net/profile/Savvas-Varsamopoulos/publication/329362532/figure/fig5/AS:699592479870977@1543807253596/Structure-of-the-LSTM-cell-and-equations-that-describe-the-gates-of-an-LSTM-cell.jpg\" alt=\"LSTM\" />\n",
        "\n",
        "*Crédito de imagen al autor, imagen tomada de \"Designing neural network based decoders for surface codes\" de Savvas Varsamopoulos*\n",
        "\n",
        "\n",
        "Recordemos que la \"celula\" de LST contiene tres tipos de gates, input, forget y output gate. La salida de una unidad LSTM está calculada por las siguientes funciones, donde  $\\sigma = softmax$. Entonces tenemos la input gate $i$, la forget gate $f$ y la output gate $o$\n",
        "\n",
        "* $i = \\sigma ( W^i [h_{t-1}, x_t])$\n",
        "* $f = \\sigma ( W^f [h_{t-1},x_t])$\n",
        "* $o = \\sigma ( W^o [h_{t-1},x_t])$\n",
        "\n",
        "Donde $W^i, W^f, W^o$ son las matrices de pesos aplicada a cada aplicadas a una matriz contatenada $h_{t-1}$ (hidden state vector) y $x_t$ (input vector) para cada respectiva gate $h_{t-1}$, del paso previo junto con el input actual $x_t$ son usados para calcular una memoria candidata $g$\n",
        "\n",
        "* $g = tanh( W^g [h_{t-1}, x_t])$\n",
        "\n",
        "El valor de la memoria $c_t$ es actualizada como\n",
        "\n",
        "$c_t = c_{t-1} \\circ f + g \\circ i$\n",
        "\n",
        "donde $c_{t-1}$ es la memoria previa, y $\\circ$ es una multiplicacion element-wise (recuerden que este tipo de multiplicación en numpy es con *)\n",
        "\n",
        "La salida $h_t$ es calculada como\n",
        "\n",
        "$h_t = tanh(c_t) \\circ o$\n",
        "\n",
        "y este se usa para tanto la salida del paso como para el siguiente paso, mientras $c_t$ es exclusivamente enviado al siguiente paso. Esto hace $c_t$ una memoria feature, y no es usado directamente para caluclar la salida del paso actual.\n",
        "\n",
        "### Iniciando una Red LSTM\n",
        "\n",
        "De forma similar a lo que hemos hecho antes, necesitaremos implementar el paso forward, backward y un ciclo de entrenamiento. Pero ahora usaremos LSTM con NumPy. Más adelante veremos como es que esto funciona con PyTorch."
      ]
    },
    {
      "cell_type": "code",
      "execution_count": 32,
      "id": "a2c856b9",
      "metadata": {
        "ExecuteTime": {
          "end_time": "2023-07-31T02:29:37.309450Z",
          "start_time": "2023-07-31T02:29:37.296147Z"
        },
        "deletable": false,
        "id": "a2c856b9",
        "nbgrader": {
          "cell_type": "code",
          "checksum": "62b5aae14a3dc0ee3dbca646ce607e19",
          "grade": false,
          "grade_id": "cell-07f509efcc1a3ccb",
          "locked": false,
          "schema_version": 3,
          "solution": true,
          "task": false
        }
      },
      "outputs": [],
      "source": [
        "np.random.seed(seed_)\n",
        "\n",
        "# Tamaño del hidden state concatenado más el input\n",
        "z_size = hidden_size + vocab_size\n",
        "\n",
        "def init_lstm(hidden_size, vocab_size, z_size):\n",
        "    \"\"\"\n",
        "    Initializes our LSTM network.\n",
        "    Init LSTM\n",
        "\n",
        "    Args:\n",
        "     hidden_size: Dimensiones del hidden state\n",
        "     vocab_size: Dimensiones de nuestro vocabulario\n",
        "     z_size: Dimensiones del input concatenado\n",
        "    \"\"\"\n",
        "\n",
        "    # Aprox 1 linea para empezar la matriz de pesos de la forget gate\n",
        "    # Recuerden que esta debe empezar con numeros aleatorios\n",
        "    # W_f = np.random.randn\n",
        "    # YOUR CODE HERE\n",
        "    W_f = np.random.randn(hidden_size, z_size)\n",
        "\n",
        "    # Bias del forget gate\n",
        "    b_f = np.zeros((hidden_size, 1))\n",
        "\n",
        "    # Aprox 1 linea para empezar la matriz de pesos de la input gate\n",
        "    # Recuerden que esta debe empezar con numeros aleatorios\n",
        "    # YOUR CODE HERE\n",
        "    W_i = np.random.randn(hidden_size, z_size)\n",
        "\n",
        "    # Bias para input gate\n",
        "    b_i = np.zeros((hidden_size, 1))\n",
        "\n",
        "    # Aprox 1 linea para empezar la matriz de pesos para la memoria candidata\n",
        "    # Recuerden que esta debe empezar con numeros aleatorios\n",
        "    # YOUR CODE HERE\n",
        "    W_g = np.random.randn(hidden_size, z_size)\n",
        "\n",
        "    # Bias para la memoria candidata\n",
        "    b_g = np.zeros((hidden_size, 1))\n",
        "\n",
        "    # Aprox 1 linea para empezar la matriz de pesos para la output gate\n",
        "    # YOUR CODE HERE\n",
        "    W_o = np.random.randn(hidden_size, z_size)\n",
        "\n",
        "    # Bias para la output gate\n",
        "    b_o = np.zeros((hidden_size, 1))\n",
        "\n",
        "\n",
        "    # Aprox 1 linea para empezar la matriz que relaciona el hidden state con el output\n",
        "    # YOUR CODE HERE\n",
        "    W_v = np.random.randn(vocab_size, hidden_size)\n",
        "\n",
        "    # Bias\n",
        "    b_v = np.zeros((vocab_size, 1))\n",
        "\n",
        "    # Init pesos ortogonalmente (https://arxiv.org/abs/1312.6120)\n",
        "    W_f = init_orthogonal(W_f)\n",
        "    W_i = init_orthogonal(W_i)\n",
        "    W_g = init_orthogonal(W_g)\n",
        "    W_o = init_orthogonal(W_o)\n",
        "    W_v = init_orthogonal(W_v)\n",
        "\n",
        "    return W_f, W_i, W_g, W_o, W_v, b_f, b_i, b_g, b_o, b_v\n",
        "\n",
        "params = init_lstm(hidden_size=hidden_size, vocab_size=vocab_size, z_size=z_size)"
      ]
    },
    {
      "cell_type": "code",
      "execution_count": 33,
      "id": "412a27b5",
      "metadata": {
        "ExecuteTime": {
          "end_time": "2023-07-31T02:29:37.325895Z",
          "start_time": "2023-07-31T02:29:37.310447Z"
        },
        "colab": {
          "base_uri": "https://localhost:8080/",
          "height": 288
        },
        "deletable": false,
        "editable": false,
        "id": "412a27b5",
        "nbgrader": {
          "cell_type": "code",
          "checksum": "f54f80a804b45836347ca5928b1902b0",
          "grade": true,
          "grade_id": "cell-1145b5a61bdcda0f",
          "locked": true,
          "points": 25,
          "schema_version": 3,
          "solution": false,
          "task": false
        },
        "outputId": "2789b429-834d-4dee-bf94-7de19d7b2f81"
      },
      "outputs": [
        {
          "data": {
            "text/html": [
              "\n",
              "        <div class=\"alert alert-box alert-success\">\n",
              "        <h1> <!--{id:\"CORRECTMARK\", marks:\"5\"}--> \n",
              "         ✓ [5 marks] \n",
              "         </h1> </div>"
            ],
            "text/plain": [
              "<IPython.core.display.HTML object>"
            ]
          },
          "metadata": {},
          "output_type": "display_data"
        },
        {
          "data": {
            "text/html": [
              "\n",
              "        <div class=\"alert alert-box alert-success\">\n",
              "        <h1> <!--{id:\"CORRECTMARK\", marks:\"5\"}--> \n",
              "         ✓ [5 marks] \n",
              "         </h1> </div>"
            ],
            "text/plain": [
              "<IPython.core.display.HTML object>"
            ]
          },
          "metadata": {},
          "output_type": "display_data"
        },
        {
          "data": {
            "text/html": [
              "\n",
              "        <div class=\"alert alert-box alert-success\">\n",
              "        <h1> <!--{id:\"CORRECTMARK\", marks:\"5\"}--> \n",
              "         ✓ [5 marks] \n",
              "         </h1> </div>"
            ],
            "text/plain": [
              "<IPython.core.display.HTML object>"
            ]
          },
          "metadata": {},
          "output_type": "display_data"
        },
        {
          "data": {
            "text/html": [
              "\n",
              "        <div class=\"alert alert-box alert-success\">\n",
              "        <h1> <!--{id:\"CORRECTMARK\", marks:\"5\"}--> \n",
              "         ✓ [5 marks] \n",
              "         </h1> </div>"
            ],
            "text/plain": [
              "<IPython.core.display.HTML object>"
            ]
          },
          "metadata": {},
          "output_type": "display_data"
        },
        {
          "data": {
            "text/html": [
              "\n",
              "        <div class=\"alert alert-box alert-success\">\n",
              "        <h1> <!--{id:\"CORRECTMARK\", marks:\"5\"}--> \n",
              "         ✓ [5 marks] \n",
              "         </h1> </div>"
            ],
            "text/plain": [
              "<IPython.core.display.HTML object>"
            ]
          },
          "metadata": {},
          "output_type": "display_data"
        }
      ],
      "source": [
        "with tick.marks(5):\n",
        "    assert check_hash(params[0], ((50, 54), -28071.583543573637))\n",
        "\n",
        "with tick.marks(5):\n",
        "    assert check_hash(params[1], ((50, 54), -6337.520066952928))\n",
        "\n",
        "with tick.marks(5):\n",
        "    assert check_hash(params[2], ((50, 54), -13445.986473992281))\n",
        "\n",
        "with tick.marks(5):\n",
        "    assert check_hash(params[3], ((50, 54), 2276.1116210911564))\n",
        "\n",
        "with tick.marks(5):\n",
        "    assert check_hash(params[4], ((4, 50), -201.28961326044097))"
      ]
    },
    {
      "cell_type": "markdown",
      "id": "c8b5035e",
      "metadata": {
        "deletable": false,
        "editable": false,
        "id": "c8b5035e",
        "nbgrader": {
          "cell_type": "markdown",
          "checksum": "7e55ee118bbd693b1c9f42414a5af868",
          "grade": false,
          "grade_id": "cell-c69b9a17df9ca940",
          "locked": true,
          "schema_version": 3,
          "solution": false,
          "task": false
        }
      },
      "source": [
        "### Forward\n",
        "\n",
        "Vamos para adelante con LSTM, al igual que previamente necesitamos implementar las funciones antes mencionadas"
      ]
    },
    {
      "cell_type": "code",
      "execution_count": 34,
      "id": "8a59a4dc",
      "metadata": {
        "ExecuteTime": {
          "end_time": "2023-07-31T02:29:37.341418Z",
          "start_time": "2023-07-31T02:29:37.326896Z"
        },
        "deletable": false,
        "id": "8a59a4dc",
        "nbgrader": {
          "cell_type": "code",
          "checksum": "b388082beee631c97ae27b131c638ee0",
          "grade": false,
          "grade_id": "cell-1277d0634231924c",
          "locked": false,
          "schema_version": 3,
          "solution": true,
          "task": false
        }
      },
      "outputs": [],
      "source": [
        "def forward(inputs, h_prev, C_prev, p):\n",
        "    \"\"\"\n",
        "    Arguments:\n",
        "    x: Input data en el paso \"t\", shape (n_x, m)\n",
        "    h_prev: Hidden state en el paso \"t-1\", shape (n_a, m)\n",
        "    C_prev: Memoria en el paso \"t-1\", shape (n_a, m)\n",
        "    p: Lista con pesos y biases, contiene:\n",
        "                        W_f:  Pesos de la forget gate, shape (n_a, n_a + n_x)\n",
        "                        b_f: Bias de la forget gate, shape (n_a, 1)\n",
        "                        W_i: Pesos de la update gate, shape (n_a, n_a + n_x)\n",
        "                        b_i: Bias de la update gate, shape (n_a, 1)\n",
        "                        W_g: Pesos de la primer \"tanh\", shape (n_a, n_a + n_x)\n",
        "                        b_g: Bias de la primer \"tanh\", shape (n_a, 1)\n",
        "                        W_o: Pesos de la output gate, shape (n_a, n_a + n_x)\n",
        "                        b_o: Bias de la output gate, shape (n_a, 1)\n",
        "                        W_v: Pesos de la matriz que relaciona el hidden state con el output, shape (n_v, n_a)\n",
        "                        b_v: Bias que relaciona el hidden state con el output, shape (n_v, 1)\n",
        "    Returns:\n",
        "    z_s, f_s, i_s, g_s, C_s, o_s, h_s, v_s: Lista de tamaño m conteniendo los calculos de cada paso forward\n",
        "    outputs: Predicciones en el paso \"t\", shape (n_v, m)\n",
        "    \"\"\"\n",
        "\n",
        "    # Validar las dimensiones\n",
        "    assert h_prev.shape == (hidden_size, 1)\n",
        "    assert C_prev.shape == (hidden_size, 1)\n",
        "\n",
        "    # Desempacar los parametros\n",
        "    W_f, W_i, W_g, W_o, W_v, b_f, b_i, b_g, b_o, b_v = p\n",
        "\n",
        "    # Listas para calculos de cada componente en LSTM\n",
        "    x_s, z_s, f_s, i_s,  = [], [] ,[], []\n",
        "    g_s, C_s, o_s, h_s = [], [] ,[], []\n",
        "    v_s, output_s =  [], []\n",
        "\n",
        "    # Agregar los valores iniciales\n",
        "    h_s.append(h_prev)\n",
        "    C_s.append(C_prev)\n",
        "\n",
        "    for x in inputs:\n",
        "\n",
        "        # Aprox 1 linea para concatenar el input y el hidden state\n",
        "        # z = np.row.stack(...)\n",
        "        # YOUR CODE HERE\n",
        "        z = np.row_stack((h_prev,x))\n",
        "        z_s.append(z)\n",
        "\n",
        "        # Aprox 1 linea para calcular el forget gate\n",
        "        # Hint: recuerde usar sigmoid\n",
        "        # f =\n",
        "        # YOUR CODE HERE\n",
        "        f = sigmoid(np.dot(W_f, z) + b_f)\n",
        "        f_s.append(f)\n",
        "\n",
        "        # Calculo del input gate\n",
        "        i = sigmoid(np.dot(W_i, z) + b_i)\n",
        "        i_s.append(i)\n",
        "\n",
        "        # Calculo de la memoria candidata\n",
        "        g = tanh(np.dot(W_g, z) + b_g)\n",
        "        g_s.append(g)\n",
        "\n",
        "        # Aprox 1 linea para calcular el estado de la memoria\n",
        "        # C_prev =\n",
        "        # YOUR CODE HERE\n",
        "        C_prev = f * C_prev + i * g\n",
        "        C_s.append(C_prev)\n",
        "\n",
        "        # Aprox 1 linea para el calculo de la output gate\n",
        "        # Hint: recuerde usar sigmoid\n",
        "        # o =\n",
        "        # YOUR CODE HERE\n",
        "        o = sigmoid(np.dot(W_o, z) + b_o)\n",
        "        o_s.append(o)\n",
        "\n",
        "        # Calculate hidden state\n",
        "        # Aprox 1 linea para el calculo del hidden state\n",
        "        # h_prev =\n",
        "        # YOUR CODE HERE\n",
        "        h_prev = o * tanh(C_prev)\n",
        "        h_s.append(h_prev)\n",
        "\n",
        "        # Calcular logits\n",
        "        v = np.dot(W_v, h_prev) + b_v\n",
        "        v_s.append(v)\n",
        "\n",
        "        # Calculo de output (con softmax)\n",
        "        output = softmax(v)\n",
        "        output_s.append(output)\n",
        "\n",
        "    return z_s, f_s, i_s, g_s, C_s, o_s, h_s, v_s, output_s\n"
      ]
    },
    {
      "cell_type": "code",
      "execution_count": 35,
      "id": "71f758df",
      "metadata": {
        "ExecuteTime": {
          "end_time": "2023-07-31T02:29:37.356972Z",
          "start_time": "2023-07-31T02:29:37.342416Z"
        },
        "colab": {
          "base_uri": "https://localhost:8080/",
          "height": 179
        },
        "deletable": false,
        "editable": false,
        "id": "71f758df",
        "nbgrader": {
          "cell_type": "code",
          "checksum": "94b91568cf22e1f75709bfe774316fd7",
          "grade": true,
          "grade_id": "cell-4c878e36c9c270ab",
          "locked": true,
          "points": 5,
          "schema_version": 3,
          "solution": false,
          "task": false
        },
        "outputId": "da4030f0-7941-457d-ca1a-577977ffdcc3"
      },
      "outputs": [
        {
          "name": "stdout",
          "output_type": "stream",
          "text": [
            "Secuencia Input:\n",
            "['a', 'a', 'a', 'a', 'a', 'a', 'a', 'a', 'a', 'a', 'a', 'b', 'b', 'b', 'b', 'b', 'b', 'b', 'b', 'b', 'b', 'b']\n",
            "Secuencia Target:\n",
            "['a', 'a', 'a', 'a', 'a', 'a', 'a', 'a', 'a', 'a', 'b', 'b', 'b', 'b', 'b', 'b', 'b', 'b', 'b', 'b', 'b', 'EOS']\n",
            "Secuencia Predicha:\n",
            "['b', 'b', 'b', 'b', 'b', 'b', 'b', 'b', 'b', 'b', 'b', 'EOS', 'EOS', 'EOS', 'b', 'b', 'b', 'b', 'b', 'b', 'b', 'b']\n"
          ]
        },
        {
          "data": {
            "text/html": [
              "\n",
              "        <div class=\"alert alert-box alert-success\">\n",
              "        <h1> <!--{id:\"CORRECTMARK\", marks:\"5\"}--> \n",
              "         ✓ [5 marks] \n",
              "         </h1> </div>"
            ],
            "text/plain": [
              "<IPython.core.display.HTML object>"
            ]
          },
          "metadata": {},
          "output_type": "display_data"
        }
      ],
      "source": [
        "# Obtener la primera secuencia para probar\n",
        "inputs, targets = test_set[1]\n",
        "\n",
        "# One-hot encode del input y target\n",
        "inputs_one_hot = one_hot_encode_sequence(inputs, vocab_size)\n",
        "targets_one_hot = one_hot_encode_sequence(targets, vocab_size)\n",
        "\n",
        "# Init hidden state con ceros\n",
        "h = np.zeros((hidden_size, 1))\n",
        "c = np.zeros((hidden_size, 1))\n",
        "\n",
        "# Forward\n",
        "z_s, f_s, i_s, g_s, C_s, o_s, h_s, v_s, outputs = forward(inputs_one_hot, h, c, params)\n",
        "\n",
        "output_sentence = [idx_to_word[np.argmax(output)] for output in outputs]\n",
        "\n",
        "print(\"Secuencia Input:\")\n",
        "print(inputs)\n",
        "\n",
        "print(\"Secuencia Target:\")\n",
        "print(targets)\n",
        "\n",
        "print(\"Secuencia Predicha:\")\n",
        "print([idx_to_word[np.argmax(output)] for output in outputs])\n",
        "\n",
        "\n",
        "with tick.marks(5):\n",
        "    assert check_hash(outputs, ((22, 4, 1), 980.1651308051631))"
      ]
    },
    {
      "cell_type": "markdown",
      "id": "b6473816",
      "metadata": {
        "deletable": false,
        "editable": false,
        "id": "b6473816",
        "nbgrader": {
          "cell_type": "markdown",
          "checksum": "a336c2502c28403858fffbc0ec095bb2",
          "grade": false,
          "grade_id": "cell-f1fb26540d33e61b",
          "locked": true,
          "schema_version": 3,
          "solution": false,
          "task": false
        }
      },
      "source": [
        "### Backward\n",
        "\n",
        "Ahora de reversa, al igual que lo hecho antes, necesitamos implementar el paso de backward\n"
      ]
    },
    {
      "cell_type": "code",
      "execution_count": 39,
      "id": "a753b92e",
      "metadata": {
        "ExecuteTime": {
          "end_time": "2023-07-31T02:29:37.372456Z",
          "start_time": "2023-07-31T02:29:37.358474Z"
        },
        "deletable": false,
        "id": "a753b92e",
        "nbgrader": {
          "cell_type": "code",
          "checksum": "149234786a31e8903430dfe2ff9b25aa",
          "grade": false,
          "grade_id": "cell-8500a307f5192db0",
          "locked": false,
          "schema_version": 3,
          "solution": true,
          "task": false
        }
      },
      "outputs": [],
      "source": [
        "def backward(z, f, i, g, C, o, h, v, outputs, targets, p = params):\n",
        "    \"\"\"\n",
        "    Arguments:\n",
        "    z: Input concatenado como una lista de tamaño m.\n",
        "    f: Calculos del forget gate como una lista de tamaño m.\n",
        "    i: Calculos del input gate como una lista de tamaño m.\n",
        "    g: Calculos de la memoria candidata como una lista de tamaño m.\n",
        "    C: Celdas estado como una lista de tamaño m+1.\n",
        "    o: Calculos del output gate como una lista de tamaño m.\n",
        "    h: Calculos del Hidden State como una lista de tamaño m+1.\n",
        "    v: Calculos del logit como una lista de tamaño m.\n",
        "    outputs: Salidas como una lista de tamaño m.\n",
        "    targets: Targets como una lista de tamaño m.\n",
        "    p: Lista con pesos y biases, contiene:\n",
        "                        W_f:  Pesos de la forget gate, shape (n_a, n_a + n_x)\n",
        "                        b_f: Bias de la forget gate, shape (n_a, 1)\n",
        "                        W_i: Pesos de la update gate, shape (n_a, n_a + n_x)\n",
        "                        b_i: Bias de la update gate, shape (n_a, 1)\n",
        "                        W_g: Pesos de la primer \"tanh\", shape (n_a, n_a + n_x)\n",
        "                        b_g: Bias de la primer \"tanh\", shape (n_a, 1)\n",
        "                        W_o: Pesos de la output gate, shape (n_a, n_a + n_x)\n",
        "                        b_o: Bias de la output gate, shape (n_a, 1)\n",
        "                        W_v: Pesos de la matriz que relaciona el hidden state con el output, shape (n_v, n_a)\n",
        "                        b_v: Bias que relaciona el hidden state con el output, shape (n_v, 1)\n",
        "    Returns:\n",
        "    loss: crossentropy loss para todos los elementos del output\n",
        "    grads: lista de gradientes para todos los elementos en p\n",
        "    \"\"\"\n",
        "\n",
        "    # Desempacar parametros\n",
        "    W_f, W_i, W_g, W_o, W_v, b_f, b_i, b_g, b_o, b_v = p\n",
        "\n",
        "    # Init gradientes con cero\n",
        "    W_f_d = np.zeros_like(W_f)\n",
        "    b_f_d = np.zeros_like(b_f)\n",
        "\n",
        "    W_i_d = np.zeros_like(W_i)\n",
        "    b_i_d = np.zeros_like(b_i)\n",
        "\n",
        "    W_g_d = np.zeros_like(W_g)\n",
        "    b_g_d = np.zeros_like(b_g)\n",
        "\n",
        "    W_o_d = np.zeros_like(W_o)\n",
        "    b_o_d = np.zeros_like(b_o)\n",
        "\n",
        "    W_v_d = np.zeros_like(W_v)\n",
        "    b_v_d = np.zeros_like(b_v)\n",
        "\n",
        "    # Setear la proxima unidad y hidden state con ceros\n",
        "    dh_next = np.zeros_like(h[0])\n",
        "    dC_next = np.zeros_like(C[0])\n",
        "\n",
        "    # Para la perdida\n",
        "    loss = 0\n",
        "\n",
        "    # Iteramos en reversa los outputs\n",
        "    for t in reversed(range(len(outputs))):\n",
        "\n",
        "        # Aprox 1 linea para calcular la perdida con cross entropy\n",
        "        # loss += ...\n",
        "        # YOUR CODE HERE\n",
        "        loss += -np.mean(np.log(outputs[t]) * targets[t])\n",
        "\n",
        "        # Obtener el hidden state del estado previo\n",
        "        C_prev= C[t-1]\n",
        "\n",
        "        # Compute the derivative of the relation of the hidden-state to the output gate\n",
        "        # Calculo de las derivadas en relacion del hidden state al output gate\n",
        "        dv = np.copy(outputs[t])\n",
        "        dv[np.argmax(targets[t])] -= 1\n",
        "\n",
        "        # Aprox 1 linea para actualizar la gradiente de la relacion del hidden-state al output gate\n",
        "        # W_v_d +=\n",
        "        # YOUR CODE HERE\n",
        "        W_v_d += np.dot(dv, h[t].T)\n",
        "        b_v_d += dv\n",
        "\n",
        "        # Calculo de la derivada del hidden state y el output gate\n",
        "        dh = np.dot(W_v.T, dv)\n",
        "        dh += dh_next\n",
        "        do = dh * tanh(C[t])\n",
        "        # Aprox 1 linea para calcular la derivada del output\n",
        "        # do = ..\n",
        "        # Hint: Recuerde multiplicar por el valor previo de do (el de arriba)\n",
        "        # YOUR CODE HERE\n",
        "        do = do * o[t] * (1 - o[t])\n",
        "\n",
        "        # Actualizacion de las gradientes con respecto al output gate\n",
        "        W_o_d += np.dot(do, z[t].T)\n",
        "        b_o_d += do\n",
        "\n",
        "        # Calculo de las derivadas del estado y la memoria candidata g\n",
        "        dC = np.copy(dC_next)\n",
        "        dC += dh * o[t] * tanh(tanh(C[t]), derivative=True)\n",
        "        dg = dC * i[t]\n",
        "        # Aprox 1 linea de codigo para terminar el calculo de dg\n",
        "        # YOUR CODE HERE\n",
        "        dg = dg * (1 - g[t] ** 2)\n",
        "\n",
        "        # Actualización de las gradientes con respecto de la mem candidata\n",
        "        W_g_d += np.dot(dg, z[t].T)\n",
        "        b_g_d += dg\n",
        "\n",
        "        # Compute the derivative of the input gate and update its gradients\n",
        "        # Calculo de la derivada del input gate y la actualización de sus gradientes\n",
        "        di = dC * g[t]\n",
        "        di = sigmoid(i[t], True) * di\n",
        "        # Aprox 2 lineas para el calculo de los pesos y bias del input gate\n",
        "        # W_i_d +=\n",
        "        # b_i_d +=\n",
        "        # YOUR CODE HERE\n",
        "        W_i_d += np.dot(di, z[t].T)\n",
        "        b_i_d += di\n",
        "\n",
        "        # Calculo de las derivadas del forget gate y actualización de sus gradientes\n",
        "        df = dC * C_prev\n",
        "        df = sigmoid(f[t]) * df\n",
        "        # Aprox 2 lineas para el calculo de los pesos y bias de la forget gate\n",
        "        # W_f_d +=\n",
        "        # b_f_d +=\n",
        "        # YOUR CODE HERE\n",
        "        W_f_d += np.dot(df, z[t].T)\n",
        "        b_f_d += df\n",
        "\n",
        "        # Calculo de las derivadas del input y la actualizacion de gradientes del hidden state previo\n",
        "        dz = (np.dot(W_f.T, df)\n",
        "             + np.dot(W_i.T, di)\n",
        "             + np.dot(W_g.T, dg)\n",
        "             + np.dot(W_o.T, do))\n",
        "        dh_prev = dz[:hidden_size, :]\n",
        "        dC_prev = f[t] * dC\n",
        "\n",
        "    grads= W_f_d, W_i_d, W_g_d, W_o_d, W_v_d, b_f_d, b_i_d, b_g_d, b_o_d, b_v_d\n",
        "\n",
        "    # Recorte de gradientes\n",
        "    grads = clip_gradient_norm(grads)\n",
        "\n",
        "    return loss, grads"
      ]
    },
    {
      "cell_type": "code",
      "execution_count": 40,
      "id": "58def9bc",
      "metadata": {
        "ExecuteTime": {
          "end_time": "2023-07-31T02:29:37.388276Z",
          "start_time": "2023-07-31T02:29:37.374451Z"
        },
        "colab": {
          "base_uri": "https://localhost:8080/",
          "height": 92
        },
        "deletable": false,
        "editable": false,
        "id": "58def9bc",
        "nbgrader": {
          "cell_type": "code",
          "checksum": "f17904c9bbc54f6acdd9e59ead87adc0",
          "grade": true,
          "grade_id": "cell-baf03f239d56e288",
          "locked": true,
          "points": 5,
          "schema_version": 3,
          "solution": false,
          "task": false
        },
        "outputId": "a16a560c-ba9c-48eb-a647-e0443bfe3562"
      },
      "outputs": [
        {
          "name": "stdout",
          "output_type": "stream",
          "text": [
            "Perdida obtenida:7.637217940764444\n"
          ]
        },
        {
          "data": {
            "text/html": [
              "\n",
              "        <div class=\"alert alert-box alert-success\">\n",
              "        <h1> <!--{id:\"CORRECTMARK\", marks:\"5\"}--> \n",
              "         ✓ [5 marks] \n",
              "         </h1> </div>"
            ],
            "text/plain": [
              "<IPython.core.display.HTML object>"
            ]
          },
          "metadata": {},
          "output_type": "display_data"
        }
      ],
      "source": [
        "# Realizamos un backward pass para probar\n",
        "loss, grads = backward(z_s, f_s, i_s, g_s, C_s, o_s, h_s, v_s, outputs, targets_one_hot, params)\n",
        "\n",
        "print(f\"Perdida obtenida:{loss}\")\n",
        "\n",
        "with tick.marks(5):\n",
        "    assert(check_scalar(loss, '0x53c34f25'))"
      ]
    },
    {
      "cell_type": "markdown",
      "id": "8739dbcd",
      "metadata": {
        "deletable": false,
        "editable": false,
        "id": "8739dbcd",
        "nbgrader": {
          "cell_type": "markdown",
          "checksum": "d33c26c1ed061d46ae3bb649a1d8f4e0",
          "grade": false,
          "grade_id": "cell-68df4c065c8367d9",
          "locked": true,
          "schema_version": 3,
          "solution": false,
          "task": false
        }
      },
      "source": [
        "### Training\n",
        "\n",
        "Ahora intentemos entrenar nuestro LSTM básico. Esta parte es muy similar a lo que ya hicimos previamente con la RNN"
      ]
    },
    {
      "cell_type": "code",
      "execution_count": 41,
      "id": "c250482a",
      "metadata": {
        "ExecuteTime": {
          "end_time": "2023-07-31T02:31:42.681386Z",
          "start_time": "2023-07-31T02:29:37.389275Z"
        },
        "colab": {
          "base_uri": "https://localhost:8080/"
        },
        "deletable": false,
        "editable": false,
        "id": "c250482a",
        "nbgrader": {
          "cell_type": "code",
          "checksum": "1882170a6b982a00cd873c6d50cc1e09",
          "grade": false,
          "grade_id": "cell-cf9622776d252627",
          "locked": true,
          "schema_version": 3,
          "solution": false,
          "task": false
        },
        "outputId": "64a63f6a-4177-49fe-c0c2-644536a92448"
      },
      "outputs": [
        {
          "name": "stdout",
          "output_type": "stream",
          "text": [
            "Epoch 0, training loss: 2.988603772853675, validation loss: 4.499707061171418\n",
            "Epoch 10, training loss: 1.2138346782420835, validation loss: 1.4430174491735772\n",
            "Epoch 20, training loss: 0.9205397027246415, validation loss: 1.0898508539300218\n",
            "Epoch 30, training loss: 0.9461880893217108, validation loss: 1.5162333116430544\n",
            "Epoch 40, training loss: 0.8447097453708239, validation loss: 1.263718980057451\n",
            "Epoch 50, training loss: 0.8210537143874097, validation loss: 1.215337439909212\n",
            "Epoch 60, training loss: 0.823478982316509, validation loss: 1.262060603937266\n",
            "Epoch 70, training loss: 0.8193493781664728, validation loss: 1.2509081934594937\n",
            "Epoch 80, training loss: 0.8251622113054587, validation loss: 1.264316768247692\n",
            "Epoch 90, training loss: 0.8335299528338792, validation loss: 1.3117266630412536\n",
            "Epoch 100, training loss: 0.8452056669790945, validation loss: 1.3466022789426548\n",
            "Epoch 110, training loss: 0.879563413966882, validation loss: 1.524110169199665\n",
            "Epoch 120, training loss: 0.9038403083892789, validation loss: 1.6383560736135734\n",
            "Epoch 130, training loss: 0.9095525034390445, validation loss: 1.6592155285015717\n",
            "Epoch 140, training loss: 0.9001081740175542, validation loss: 1.6201020554944645\n",
            "Epoch 150, training loss: 0.8771005280496287, validation loss: 1.5335961914126652\n",
            "Epoch 160, training loss: 0.8373765510273247, validation loss: 1.3828966640202967\n",
            "Epoch 170, training loss: 0.773172126563442, validation loss: 1.1227207896063338\n",
            "Epoch 180, training loss: 0.7266228290665204, validation loss: 0.8363381912487414\n",
            "Epoch 190, training loss: 0.7630666507434528, validation loss: 0.9045970187441451\n",
            "Epoch 200, training loss: 0.8029831921164707, validation loss: 1.06976533906591\n",
            "Epoch 210, training loss: 0.8164207500870442, validation loss: 1.147898751987868\n",
            "Epoch 220, training loss: 0.8244645342521523, validation loss: 1.1993745369194584\n",
            "Epoch 230, training loss: 0.8304826014661852, validation loss: 1.2346573187228613\n",
            "Epoch 240, training loss: 0.8252078588269522, validation loss: 1.2127946099788967\n",
            "Epoch 250, training loss: 0.8067015254913528, validation loss: 1.138305917907306\n",
            "Epoch 260, training loss: 0.7781123570830517, validation loss: 1.0372930086607823\n",
            "Epoch 270, training loss: 0.7461939570242262, validation loss: 0.9262763135396911\n",
            "Epoch 280, training loss: 0.7187021141135841, validation loss: 0.850843611314797\n",
            "Epoch 290, training loss: 0.6997819849284079, validation loss: 0.8307801697088368\n",
            "Epoch 300, training loss: 0.6907102716780674, validation loss: 0.8799567484797277\n",
            "Epoch 310, training loss: 0.6877451077905209, validation loss: 0.9422632200439726\n",
            "Epoch 320, training loss: 0.688908365821585, validation loss: 0.955489587881732\n",
            "Epoch 330, training loss: 0.693447642038852, validation loss: 0.9226343858390491\n",
            "Epoch 340, training loss: 0.7019862410717362, validation loss: 0.8662937051050259\n",
            "Epoch 350, training loss: 0.7126839521404046, validation loss: 0.8321971399701338\n",
            "Epoch 360, training loss: 0.7858620441269464, validation loss: 0.8494757175692627\n",
            "Epoch 370, training loss: 1.0918171878649534, validation loss: 0.8829595678545978\n",
            "Epoch 380, training loss: 2.407734645251419, validation loss: 5.839149321690995\n",
            "Epoch 390, training loss: 2.077544881606146, validation loss: 4.370072562115969\n",
            "Epoch 400, training loss: 0.8646637056098244, validation loss: 1.3785094125623503\n",
            "Epoch 410, training loss: 0.7473683433698556, validation loss: 0.9021029248653493\n",
            "Epoch 420, training loss: 0.779466674579431, validation loss: 0.9199545600421299\n",
            "Epoch 430, training loss: 0.7940313795381677, validation loss: 0.9099175189065608\n",
            "Epoch 440, training loss: 0.8114174147364203, validation loss: 0.9039386008161069\n",
            "Epoch 450, training loss: 0.8397053687697011, validation loss: 0.9224015505688911\n",
            "Epoch 460, training loss: 0.8822009456520566, validation loss: 0.9680250473404536\n",
            "Epoch 470, training loss: 0.9320670386444982, validation loss: 1.0327259928213102\n",
            "Epoch 480, training loss: 0.9676229660412335, validation loss: 1.1501898224014855\n",
            "Epoch 490, training loss: 0.9891263079080252, validation loss: 1.503364528888994\n"
          ]
        }
      ],
      "source": [
        "# Hyper parametros\n",
        "num_epochs = 500\n",
        "\n",
        "# Init una nueva red\n",
        "z_size = hidden_size + vocab_size # Tamaño del hidden concatenado + el input\n",
        "params = init_lstm(hidden_size=hidden_size, vocab_size=vocab_size, z_size=z_size)\n",
        "\n",
        "# Init hidden state como ceros\n",
        "hidden_state = np.zeros((hidden_size, 1))\n",
        "\n",
        "# Perdida\n",
        "training_loss, validation_loss = [], []\n",
        "\n",
        "# Iteramos cada epoca\n",
        "for i in range(num_epochs):\n",
        "\n",
        "    # Perdidas\n",
        "    epoch_training_loss = 0\n",
        "    epoch_validation_loss = 0\n",
        "\n",
        "    # Para cada secuencia en el validation set\n",
        "    for inputs, targets in validation_set:\n",
        "\n",
        "        # One-hot encode el inpyt y el target\n",
        "        inputs_one_hot = one_hot_encode_sequence(inputs, vocab_size)\n",
        "        targets_one_hot = one_hot_encode_sequence(targets, vocab_size)\n",
        "\n",
        "        # Init hidden state y la unidad de estado como ceros\n",
        "        h = np.zeros((hidden_size, 1))\n",
        "        c = np.zeros((hidden_size, 1))\n",
        "\n",
        "        # Forward\n",
        "        z_s, f_s, i_s, g_s, C_s, o_s, h_s, v_s, outputs = forward(inputs_one_hot, h, c, params)\n",
        "\n",
        "        # Backward\n",
        "        loss, _ = backward(z_s, f_s, i_s, g_s, C_s, o_s, h_s, v_s, outputs, targets_one_hot, params)\n",
        "\n",
        "        # Actualizacion de la perdida\n",
        "        epoch_validation_loss += loss\n",
        "\n",
        "    # Para cada secuencia en el training set\n",
        "    for inputs, targets in training_set:\n",
        "\n",
        "        # One-hot encode el inpyt y el target\n",
        "        inputs_one_hot = one_hot_encode_sequence(inputs, vocab_size)\n",
        "        targets_one_hot = one_hot_encode_sequence(targets, vocab_size)\n",
        "\n",
        "        # Init hidden state y la unidad de estado como ceros\n",
        "        h = np.zeros((hidden_size, 1))\n",
        "        c = np.zeros((hidden_size, 1))\n",
        "\n",
        "        # Forward\n",
        "        z_s, f_s, i_s, g_s, C_s, o_s, h_s, v_s, outputs = forward(inputs_one_hot, h, c, params)\n",
        "\n",
        "        # Backward\n",
        "        loss, grads = backward(z_s, f_s, i_s, g_s, C_s, o_s, h_s, v_s, outputs, targets_one_hot, params)\n",
        "\n",
        "        # Actualización de parametros\n",
        "        params = update_parameters(params, grads, lr=1e-1)\n",
        "\n",
        "        # Actualizacion de la perdida\n",
        "        epoch_training_loss += loss\n",
        "\n",
        "    # Guardar la perdida para ser graficada\n",
        "    training_loss.append(epoch_training_loss/len(training_set))\n",
        "    validation_loss.append(epoch_validation_loss/len(validation_set))\n",
        "\n",
        "    # Mostrar la perdida cada 5 epocas\n",
        "    if i % 10 == 0:\n",
        "        print(f'Epoch {i}, training loss: {training_loss[-1]}, validation loss: {validation_loss[-1]}')"
      ]
    },
    {
      "cell_type": "code",
      "execution_count": 42,
      "id": "531a11a0",
      "metadata": {
        "ExecuteTime": {
          "end_time": "2023-07-31T02:31:42.819860Z",
          "start_time": "2023-07-31T02:31:42.683278Z"
        },
        "colab": {
          "base_uri": "https://localhost:8080/",
          "height": 553
        },
        "deletable": false,
        "editable": false,
        "id": "531a11a0",
        "nbgrader": {
          "cell_type": "code",
          "checksum": "5db6b37684f2913ca50ec8a4c8f5981f",
          "grade": false,
          "grade_id": "cell-7814184dd4823fac",
          "locked": true,
          "schema_version": 3,
          "solution": false,
          "task": false
        },
        "outputId": "31da1bd4-c4ed-4013-bb9d-2bc0078e2fb0"
      },
      "outputs": [
        {
          "name": "stdout",
          "output_type": "stream",
          "text": [
            "Secuencia Input:\n",
            "['a', 'a', 'a', 'a', 'a', 'a', 'a', 'a', 'a', 'a', 'a', 'b', 'b', 'b', 'b', 'b', 'b', 'b', 'b', 'b', 'b', 'b']\n",
            "Secuencia Target:\n",
            "['a', 'a', 'a', 'a', 'a', 'a', 'a', 'a', 'a', 'a', 'b', 'b', 'b', 'b', 'b', 'b', 'b', 'b', 'b', 'b', 'b', 'EOS']\n",
            "Secuencia Predicha:\n",
            "['a', 'a', 'a', 'a', 'a', 'a', 'b', 'b', 'b', 'b', 'b', 'b', 'b', 'b', 'b', 'b', 'b', 'b', 'b', 'EOS', 'EOS', 'EOS']\n"
          ]
        },
        {
          "data": {
            "image/png": "[encoded data removed]",
            "text/plain": [
              "<Figure size 640x480 with 1 Axes>"
            ]
          },
          "metadata": {},
          "output_type": "display_data"
        }
      ],
      "source": [
        "# Obtener la primera secuencia del test set\n",
        "inputs, targets = test_set[1]\n",
        "\n",
        "# One-hot encode el input y el target\n",
        "inputs_one_hot = one_hot_encode_sequence(inputs, vocab_size)\n",
        "targets_one_hot = one_hot_encode_sequence(targets, vocab_size)\n",
        "\n",
        "# Init hidden state como ceros\n",
        "h = np.zeros((hidden_size, 1))\n",
        "c = np.zeros((hidden_size, 1))\n",
        "\n",
        "# Forward\n",
        "z_s, f_s, i_s, g_s, C_s, o_s, h_s, v_s, outputs = forward(inputs_one_hot, h, c, params)\n",
        "\n",
        "print(\"Secuencia Input:\")\n",
        "print(inputs)\n",
        "\n",
        "print(\"Secuencia Target:\")\n",
        "print(targets)\n",
        "\n",
        "print(\"Secuencia Predicha:\")\n",
        "print([idx_to_word[np.argmax(output)] for output in outputs])\n",
        "\n",
        "# Graficar la perdida en training y validacion\n",
        "epoch = np.arange(len(training_loss))\n",
        "plt.figure()\n",
        "plt.plot(epoch, training_loss, 'r', label='Training loss',)\n",
        "plt.plot(epoch, validation_loss, 'b', label='Validation loss')\n",
        "plt.legend()\n",
        "plt.xlabel('Epoch'), plt.ylabel('NLL')\n",
        "plt.show()"
      ]
    },
    {
      "cell_type": "markdown",
      "id": "c8692424",
      "metadata": {
        "deletable": false,
        "editable": false,
        "id": "c8692424",
        "nbgrader": {
          "cell_type": "markdown",
          "checksum": "c4c179da7bfac5c35f0bc42867fe83cf",
          "grade": false,
          "grade_id": "cell-a8b4db0d7c0dd6cc",
          "locked": true,
          "schema_version": 3,
          "solution": false,
          "task": false
        }
      },
      "source": [
        "#### Preguntas\n",
        "\n",
        "**Responda** lo siguiente dentro de esta celda\n",
        "\n",
        "* ¿Qué modelo funcionó mejor? ¿RNN tradicional o el basado en LSTM? ¿Por qué?\n",
        "El primero, RNN es mejor, esto se debe a que comparando modelos RNN es más sencillo y requiere menos recursos, existe un menor riesgo de overfitting dada su menor complejidad.\n",
        "\n",
        "* Observen la gráfica obtenida arriba, ¿en qué es diferente a la obtenida a RNN? ¿Es esto mejor o peor? ¿Por qué?\n",
        "Es menos constante el LSTM, difiere más en cada época, pareciendose mucho solo en las primeras nada más, aunque a largo plazo pareciera que LSTM llega a ser la mejor opción podemos ver como en este caso RNN es la mejor solución.\n",
        "\n",
        "* ¿Por qué LSTM puede funcionar mejor con secuencias largas?\n",
        "Ya que LSTM aborda el problema del desvanecimiento de gradientes en secuencias largas es mejr. Mientras que los RNNs tradicionales pueden tener dificultades para aprender dependencias a largo plazo, LSTM utiliza celdas de memoria y puertas para retener y olvidar información relevante, permitiéndole recordar dependencias a largo plazo y funcionar mejor en tareas con secuencias largas, como el procesamiento del lenguaje natural y la predicción de series temporales."
      ]
    },
    {
      "cell_type": "markdown",
      "id": "3bdc991e",
      "metadata": {
        "deletable": false,
        "editable": false,
        "id": "3bdc991e",
        "nbgrader": {
          "cell_type": "markdown",
          "checksum": "f7b6dbdd11cf95d69a352306b879c05b",
          "grade": false,
          "grade_id": "cell-70b696ca36c0804a",
          "locked": true,
          "schema_version": 3,
          "solution": false,
          "task": false
        }
      },
      "source": [
        "## Parte 3 - Red Neuronal LSTM con PyTorch\n",
        "\n",
        "Ahora que ya hemos visto el funcionamiento paso a paso de tanto RNN tradicional como LSTM. Es momento de usar PyTorch. Para esta parte usaremos el mismo dataset generado al inicio. Así mismo, usaremos un ciclo de entrenamiento similar al que hemos usado previamente.\n",
        "\n",
        "En la siguiente parte (sí, hay una siguiente parte &#x1F913;) usaremos otro tipo de dataset más formal"
      ]
    },
    {
      "cell_type": "code",
      "execution_count": null,
      "id": "0b18938b",
      "metadata": {
        "ExecuteTime": {
          "end_time": "2023-07-31T02:31:42.835972Z",
          "start_time": "2023-07-31T02:31:42.821945Z"
        },
        "deletable": false,
        "id": "0b18938b",
        "nbgrader": {
          "cell_type": "code",
          "checksum": "ee2d3fa1a4e9d2426203334a38a4af8e",
          "grade": false,
          "grade_id": "cell-311fc1fe42eca687",
          "locked": false,
          "schema_version": 3,
          "solution": true,
          "task": false
        },
        "outputId": "34879c41-14bf-4dc2-b900-5c2a8a895591"
      },
      "outputs": [
        {
          "name": "stdout",
          "output_type": "stream",
          "text": [
            "Net(\n",
            "  (lstm): LSTM(10000, 50)\n",
            "  (l_out): Linear(in_features=50, out_features=10000, bias=False)\n",
            ")\n"
          ]
        }
      ],
      "source": [
        "import torch\n",
        "import torch.nn as nn\n",
        "import torch.nn.functional as F\n",
        "\n",
        "class Net(nn.Module):\n",
        "    def __init__(self):\n",
        "        super(Net, self).__init__()\n",
        "\n",
        "        # Aprox 1-3 lineas de codigo para declarar una capa LSTM\n",
        "        # self.lstm =\n",
        "        # Hint: Esta tiene que tener el input_size del tamaño del vocabulario,\n",
        "        #     debe tener 50 hidden states (hidden_size)\n",
        "        #     una layer\n",
        "        #     y NO (False) debe ser bidireccional\n",
        "        # YOUR CODE HERE\n",
        "        raise NotImplementedError()\n",
        "\n",
        "        # Layer de salida (output)\n",
        "        self.l_out = nn.Linear(in_features=50,\n",
        "                            out_features=vocab_size,\n",
        "                            bias=False)\n",
        "\n",
        "    def forward(self, x):\n",
        "        # RNN regresa el output y el ultimo hidden state\n",
        "        x, (h, c) = self.lstm(x)\n",
        "\n",
        "        # Aplanar la salida para una layer feed forward\n",
        "        x = x.view(-1, self.lstm.hidden_size)\n",
        "\n",
        "        # layer de output\n",
        "        x = self.l_out(x)\n",
        "\n",
        "        return x\n",
        "\n",
        "net = Net()\n",
        "print(net)"
      ]
    },
    {
      "cell_type": "code",
      "execution_count": null,
      "id": "8c896f71",
      "metadata": {
        "ExecuteTime": {
          "end_time": "2023-07-31T02:32:36.624191Z",
          "start_time": "2023-07-31T02:31:42.837717Z"
        },
        "deletable": false,
        "id": "8c896f71",
        "nbgrader": {
          "cell_type": "code",
          "checksum": "ad63c124dd865aa9b8c0da08852718ad",
          "grade": false,
          "grade_id": "cell-04486b8d9ade1533",
          "locked": false,
          "schema_version": 3,
          "solution": true,
          "task": false
        },
        "outputId": "779315aa-29cc-4100-880d-a4607d30ff1d"
      },
      "outputs": [
        {
          "ename": "NameError",
          "evalue": "name 'validation_set' is not defined",
          "output_type": "error",
          "traceback": [
            "\u001b[1;31m---------------------------------------------------------------------------\u001b[0m",
            "\u001b[1;31mNameError\u001b[0m                                 Traceback (most recent call last)",
            "Cell \u001b[1;32mIn[4], line 28\u001b[0m\n\u001b[0;32m     25\u001b[0m net\u001b[39m.\u001b[39meval()\n\u001b[0;32m     27\u001b[0m \u001b[39m# Para cada secuencia en el validation set\u001b[39;00m\n\u001b[1;32m---> 28\u001b[0m \u001b[39mfor\u001b[39;00m inputs, targets \u001b[39min\u001b[39;00m validation_set:\n\u001b[0;32m     29\u001b[0m     \n\u001b[0;32m     30\u001b[0m     \u001b[39m# One-hot encode el inpyt y el target\u001b[39;00m\n\u001b[0;32m     31\u001b[0m     inputs_one_hot \u001b[39m=\u001b[39m one_hot_encode_sequence(inputs, vocab_size)\n\u001b[0;32m     32\u001b[0m     targets_idx \u001b[39m=\u001b[39m [word_to_idx[word] \u001b[39mfor\u001b[39;00m word \u001b[39min\u001b[39;00m targets]\n",
            "\u001b[1;31mNameError\u001b[0m: name 'validation_set' is not defined"
          ]
        }
      ],
      "source": [
        "# Hyper parametros\n",
        "num_epochs = 500\n",
        "\n",
        "# Init una nueva red\n",
        "net = Net()\n",
        "\n",
        "# Aprox 2 lineas para definir la función de perdida y el optimizador\n",
        "# criterion = # Use CrossEntropy\n",
        "# optimizer = # Use Adam con lr=3e-4\n",
        "# YOUR CODE HERE\n",
        "raise NotImplementedError()\n",
        "\n",
        "# Perdida\n",
        "training_loss, validation_loss = [], []\n",
        "\n",
        "# Iteramos cada epoca\n",
        "for i in range(num_epochs):\n",
        "\n",
        "    # Perdidas\n",
        "    epoch_training_loss = 0\n",
        "    epoch_validation_loss = 0\n",
        "\n",
        "    # NOTA 1\n",
        "    net.eval()\n",
        "\n",
        "    # Para cada secuencia en el validation set\n",
        "    for inputs, targets in validation_set:\n",
        "\n",
        "        # One-hot encode el inpyt y el target\n",
        "        inputs_one_hot = one_hot_encode_sequence(inputs, vocab_size)\n",
        "        targets_idx = [word_to_idx[word] for word in targets]\n",
        "\n",
        "        # Convertir el input a un tensor\n",
        "        inputs_one_hot = torch.Tensor(inputs_one_hot)\n",
        "        inputs_one_hot = inputs_one_hot.permute(0, 2, 1)\n",
        "\n",
        "        # Convertir el target a un tensor\n",
        "        targets_idx = torch.LongTensor(targets_idx)\n",
        "\n",
        "        # Aprox 1 linea para el Forward\n",
        "        # outputs =\n",
        "        # YOUR CODE HERE\n",
        "        raise NotImplementedError()\n",
        "\n",
        "        # Aprox 1 linea para calcular la perdida\n",
        "        # loss =\n",
        "        # Hint: Use el criterion definido arriba\n",
        "        # YOUR CODE HERE\n",
        "        raise NotImplementedError()\n",
        "\n",
        "        # Actualizacion de la perdida\n",
        "        epoch_validation_loss += loss.detach().numpy()\n",
        "\n",
        "    # NOTA 2\n",
        "    net.train()\n",
        "\n",
        "    # Para cada secuencia en el training set\n",
        "    for inputs, targets in training_set:\n",
        "\n",
        "        # One-hot encode el inpyt y el target\n",
        "        inputs_one_hot = one_hot_encode_sequence(inputs, vocab_size)\n",
        "        targets_idx = [word_to_idx[word] for word in targets]\n",
        "\n",
        "        # Convertir el input a un tensor\n",
        "        inputs_one_hot = torch.Tensor(inputs_one_hot)\n",
        "        inputs_one_hot = inputs_one_hot.permute(0, 2, 1)\n",
        "\n",
        "        # Convertir el target a un tensor\n",
        "        targets_idx = torch.LongTensor(targets_idx)\n",
        "\n",
        "        # Aprox 1 linea para el Forward\n",
        "        # outputs =\n",
        "        # YOUR CODE HERE\n",
        "        raise NotImplementedError()\n",
        "\n",
        "        # Aprox 1 linea para calcular la perdida\n",
        "        # loss =\n",
        "        # Hint: Use el criterion definido arriba\n",
        "        # YOUR CODE HERE\n",
        "        raise NotImplementedError()\n",
        "\n",
        "        # Aprox 3 lineas para definir el backward\n",
        "        # optimizer.\n",
        "        # loss.\n",
        "        # optimizer.\n",
        "        # YOUR CODE HERE\n",
        "        raise NotImplementedError()\n",
        "\n",
        "        # Actualizacion de la perdida\n",
        "        epoch_training_loss += loss.detach().numpy()\n",
        "\n",
        "    # Guardar la perdida para ser graficada\n",
        "    training_loss.append(epoch_training_loss/len(training_set))\n",
        "    validation_loss.append(epoch_validation_loss/len(validation_set))\n",
        "\n",
        "    # Mostrar la perdida cada 5 epocas\n",
        "    if i % 10 == 0:\n",
        "        print(f'Epoch {i}, training loss: {training_loss[-1]}, validation loss: {validation_loss[-1]}')\n"
      ]
    },
    {
      "cell_type": "code",
      "execution_count": null,
      "id": "0ca199e6",
      "metadata": {
        "ExecuteTime": {
          "end_time": "2023-07-31T02:32:36.640178Z",
          "start_time": "2023-07-31T02:32:36.626695Z"
        },
        "deletable": false,
        "editable": false,
        "id": "0ca199e6",
        "nbgrader": {
          "cell_type": "code",
          "checksum": "18a505ffb2aa6222c3894bc5fee82e02",
          "grade": true,
          "grade_id": "cell-acfe6153f9006b27",
          "locked": true,
          "points": 10,
          "schema_version": 3,
          "solution": false,
          "task": false
        }
      },
      "outputs": [],
      "source": [
        "\n",
        "with tick.marks(5):\n",
        "    assert compare_numbers(new_representation(training_loss[-1]), \"3c3d\", '0x1.28f5c28f5c28fp-2')\n",
        "\n",
        "with tick.marks(5):\n",
        "    assert compare_numbers(new_representation(validation_loss[-1]), \"3c3d\", '0x1.28f5c28f5c28fp-2')"
      ]
    },
    {
      "cell_type": "code",
      "execution_count": null,
      "id": "6561162c",
      "metadata": {
        "ExecuteTime": {
          "end_time": "2023-07-31T02:32:36.781648Z",
          "start_time": "2023-07-31T02:32:36.642178Z"
        },
        "deletable": false,
        "id": "6561162c",
        "nbgrader": {
          "cell_type": "code",
          "checksum": "5847ed5bbead7e432e5e12d4eb6114a3",
          "grade": false,
          "grade_id": "cell-3e1bfd6f4ff9568e",
          "locked": false,
          "schema_version": 3,
          "solution": true,
          "task": false
        }
      },
      "outputs": [],
      "source": [
        "# Obtener la primera secuencia del test set\n",
        "inputs, targets = test_set[1]\n",
        "\n",
        "# One-hot encode el input y el target\n",
        "inputs_one_hot = one_hot_encode_sequence(inputs, vocab_size)\n",
        "targets_idx = [word_to_idx[word] for word in targets]\n",
        "\n",
        "# Convertir el input a un tensor\n",
        "inputs_one_hot = torch.Tensor(inputs_one_hot)\n",
        "inputs_one_hot = inputs_one_hot.permute(0, 2, 1)\n",
        "\n",
        "# Convertir el target a un tensor\n",
        "targets_idx = torch.LongTensor(targets_idx)\n",
        "\n",
        "\n",
        "# Aprox 1 linea para el Forward\n",
        "# outputs =\n",
        "# YOUR CODE HERE\n",
        "raise NotImplementedError()\n",
        "\n",
        "print(\"Secuencia Input:\")\n",
        "print(inputs)\n",
        "\n",
        "print(\"Secuencia Target:\")\n",
        "print(targets)\n",
        "\n",
        "print(\"Secuencia Predicha:\")\n",
        "print([idx_to_word[np.argmax(output)] for output in outputs])\n",
        "\n",
        "# Graficar la perdida en training y validacion\n",
        "epoch = np.arange(len(training_loss))\n",
        "plt.figure()\n",
        "plt.plot(epoch, training_loss, 'r', label='Training loss',)\n",
        "plt.plot(epoch, validation_loss, 'b', label='Validation loss')\n",
        "plt.legend()\n",
        "plt.xlabel('Epoch'), plt.ylabel('NLL')\n",
        "plt.show()"
      ]
    },
    {
      "cell_type": "markdown",
      "id": "ee03eeae",
      "metadata": {
        "deletable": false,
        "editable": false,
        "id": "ee03eeae",
        "nbgrader": {
          "cell_type": "markdown",
          "checksum": "f80da25b1e5ffd177becd68eb2c2dde2",
          "grade": false,
          "grade_id": "cell-1fb0f402aab24ee3",
          "locked": true,
          "schema_version": 3,
          "solution": false,
          "task": false
        }
      },
      "source": [
        "#### Preguntas\n",
        "\n",
        "**Responda** lo siguiente dentro de esta celda\n",
        "\n",
        "* Compare las graficas obtenidas en el LSTM \"a mano\" y el LSTM \"usando PyTorch, ¿cuál cree que es mejor? ¿Por qué?\n",
        "* Compare la secuencia target y la predicha de esta parte, ¿en qué parte falló el modelo?\n",
        "* ¿Qué sucede en el código donde se señala \"NOTA 1\" y \"NOTA 2\"? ¿Para qué son necesarias estas líneas?"
      ]
    },
    {
      "cell_type": "markdown",
      "id": "55ccbc27",
      "metadata": {
        "deletable": false,
        "editable": false,
        "id": "55ccbc27",
        "nbgrader": {
          "cell_type": "markdown",
          "checksum": "772e173eeac39b0919121141a48d2484",
          "grade": false,
          "grade_id": "cell-5bb7d8b7aa5b0eba",
          "locked": true,
          "schema_version": 3,
          "solution": false,
          "task": false
        }
      },
      "source": [
        "## Parte 4 - Segunda Red Neuronal LSTM con PyTorch\n",
        "\n",
        "Para esta parte será un poco menos guiada, por lo que se espera que puedan generar un modelo de Red Neuronal con LSTM para solventar un problema simple. Lo que se evaluará es la métrica final, y solamente se dejarán las generalidades de la implementación. El objetivo de esta parte, es dejar que ustedes exploren e investiguen un poco más por su cuenta.\n",
        "\n",
        "En este parte haremos uso de las redes LSTM pero para predicción de series de tiempo. Entonces lo que se busca es que dado un mes y un año, se debe predecir el número de pasajeros en unidades de miles. Los datos a usar son de 1949 a 1960.\n",
        "\n",
        "Basado del blog \"LSTM for Time Series Prediction in PyTorch\" de Adrian Tam."
      ]
    },
    {
      "cell_type": "code",
      "execution_count": null,
      "id": "a0f4e03a",
      "metadata": {
        "ExecuteTime": {
          "end_time": "2023-07-31T02:32:36.796931Z",
          "start_time": "2023-07-31T02:32:36.782645Z"
        },
        "id": "a0f4e03a"
      },
      "outputs": [],
      "source": [
        "# Seed all\n",
        "import torch\n",
        "import random\n",
        "import numpy as np\n",
        "\n",
        "\n",
        "random.seed(seed_)\n",
        "np.random.seed(seed_)\n",
        "torch.manual_seed(seed_)\n",
        "if torch.cuda.is_available():\n",
        "    torch.cuda.manual_seed(seed_)\n",
        "    torch.cuda.manual_seed_all(seed_)  # Multi-GPU.\n",
        "torch.backends.cudnn.deterministic = True\n",
        "torch.backends.cudnn.benchmark = False\n"
      ]
    },
    {
      "cell_type": "code",
      "execution_count": null,
      "id": "b5b161e6",
      "metadata": {
        "ExecuteTime": {
          "end_time": "2023-07-31T02:32:38.551864Z",
          "start_time": "2023-07-31T02:32:36.798433Z"
        },
        "id": "b5b161e6"
      },
      "outputs": [],
      "source": [
        "import pandas as pd\n",
        "\n",
        "url_data = \"https://raw.githubusercontent.com/jbrownlee/Datasets/master/airline-passengers.csv\"\n",
        "dataset = pd.read_csv(url_data)\n",
        "dataset.head(10)"
      ]
    },
    {
      "cell_type": "code",
      "execution_count": null,
      "id": "39147fe4",
      "metadata": {
        "ExecuteTime": {
          "end_time": "2023-07-31T02:32:38.662912Z",
          "start_time": "2023-07-31T02:32:38.554181Z"
        },
        "id": "39147fe4"
      },
      "outputs": [],
      "source": [
        "# Dibujemos la serie de tiempo\n",
        "time_series = dataset[[\"Passengers\"]].values.astype('float32')\n",
        "\n",
        "plt.plot(time_series)\n",
        "plt.show()"
      ]
    },
    {
      "cell_type": "markdown",
      "id": "26c0a974",
      "metadata": {
        "deletable": false,
        "editable": false,
        "id": "26c0a974",
        "nbgrader": {
          "cell_type": "markdown",
          "checksum": "2b571f3d3e711cd00704160b9076470c",
          "grade": false,
          "grade_id": "cell-62ab455036fa4a55",
          "locked": true,
          "schema_version": 3,
          "solution": false,
          "task": false
        }
      },
      "source": [
        "Esta serie de tiempo comprende 144 pasos de tiempo. El gráfico indica claramente una tendencia al alza y hay patrones periódicos en los datos que corresponden al período de vacaciones de verano. Por lo general, se recomienda \"eliminar la tendencia\" de la serie temporal eliminando el componente de tendencia lineal y normalizándolo antes de continuar con el procesamiento. Sin embargo, por simplicidad de este ejercicios, vamos a omitir estos pasos.\n",
        "\n",
        "Ahora necesitamos dividir nuestro dataset en training, validation y test set. A diferencia de otro tipo de datasets, cuando se trabaja en este tipo de proyectos, la división se debe hacer sin \"revolver\" los datos. Para esto, podemos hacerlo con NumPy"
      ]
    },
    {
      "cell_type": "code",
      "execution_count": null,
      "id": "386a179c",
      "metadata": {
        "ExecuteTime": {
          "end_time": "2023-07-31T02:32:38.678359Z",
          "start_time": "2023-07-31T02:32:38.663917Z"
        },
        "deletable": false,
        "editable": false,
        "id": "386a179c",
        "nbgrader": {
          "cell_type": "code",
          "checksum": "07cb1e706347a5e56eac2633b37bcaf1",
          "grade": false,
          "grade_id": "cell-35af372f0bf820a2",
          "locked": true,
          "schema_version": 3,
          "solution": false,
          "task": false
        }
      },
      "outputs": [],
      "source": [
        "# En esta ocasion solo usaremos train y test, validation lo omitiremos para simpleza del ejercicio\n",
        "# NO CAMBIEN NADA DE ESTA CELDA POR FAVOR\n",
        "p_train=0.8\n",
        "p_test=0.2\n",
        "\n",
        "# Definimos el tamaño de las particiones\n",
        "num_train = int(len(time_series)*p_train)\n",
        "num_test = int(len(time_series)*p_test)\n",
        "\n",
        "\n",
        "# Dividir las secuencias en las particiones\n",
        "train = time_series[:num_train]\n",
        "test = time_series[num_train:]"
      ]
    },
    {
      "cell_type": "markdown",
      "id": "50b657bd",
      "metadata": {
        "deletable": false,
        "editable": false,
        "id": "50b657bd",
        "nbgrader": {
          "cell_type": "markdown",
          "checksum": "40c1e60513e029a06d25435af49dad3a",
          "grade": false,
          "grade_id": "cell-ece3e13c7a8ed477",
          "locked": true,
          "schema_version": 3,
          "solution": false,
          "task": false
        }
      },
      "source": [
        "El aspecto más complicado es determinar el método por el cual la red debe predecir la serie temporal. Por lo general, la predicción de series temporales se realiza en función de una ventana. En otras palabras, recibe datos del tiempo t1 al t2, y su tarea es predecir para el tiempo t3 (o más adelante). El tamaño de la ventana, denotado por w, dicta cuántos datos puede considerar el modelo al hacer la predicción. Este parámetro también se conoce como **look back period** (período retrospectivo).\n",
        "\n",
        "Entonces, creemos una función para obtener estos datos, dado un look back period. Además, debemos asegurarnos de transformar estos datos a tensores para poder ser usados con PyTorch.\n",
        "\n",
        "Esta función está diseñada para crear ventanas en la serie de tiempo mientras predice un paso de tiempo en el futuro inmediato. Su propósito es convertir una serie de tiempo en un tensor con dimensiones (muestras de ventana, pasos de tiempo, características). Dada una serie de tiempo con t pasos de tiempo, puede producir aproximadamente (t - ventana + 1) ventanas, donde \"ventana\" denota el tamaño de cada ventana. Estas ventanas pueden comenzar desde cualquier paso de tiempo dentro de la serie de tiempo, siempre que no se extiendan más allá de sus límites.\n",
        "\n",
        "Cada ventana contiene múltiples pasos de tiempo consecutivos con sus valores correspondientes, y cada paso de tiempo puede tener múltiples características. Sin embargo, en este conjunto de datos específico, solo hay una función disponible.\n",
        "\n",
        "La elección del diseño garantiza que tanto la \"característica\" como el \"objetivo\" tengan la misma forma. Por ejemplo, para una ventana de tres pasos de tiempo, la \"característica\" corresponde a la serie de tiempo de t-3 a t-1, y el \"objetivo\" cubre los pasos de tiempo de t-2 a t. Aunque estamos principalmente interesados en predecir t+1, la información de t-2 a t es valiosa durante el entrenamiento.\n",
        "\n",
        "Es importante tener en cuenta que la serie temporal de entrada se representa como una matriz 2D, mientras que la salida de la función `create_timeseries_dataset()` será un tensor 3D. Para demostrarlo, usemos lookback=1 y verifiquemos la forma del tensor de salida en consecuencia."
      ]
    },
    {
      "cell_type": "code",
      "execution_count": null,
      "id": "2ae6e2f8",
      "metadata": {
        "ExecuteTime": {
          "end_time": "2023-07-31T02:32:38.694314Z",
          "start_time": "2023-07-31T02:32:38.680182Z"
        },
        "id": "2ae6e2f8"
      },
      "outputs": [],
      "source": [
        "import torch\n",
        "\n",
        "def create_timeseries_dataset(dataset, lookback):\n",
        "    X, y = [], []\n",
        "    for i in range(len(dataset) - lookback):\n",
        "        feature = dataset[i : i + lookback]\n",
        "        target = dataset[i + 1 : i + lookback + 1]\n",
        "        X.append(feature)\n",
        "        y.append(target)\n",
        "    return torch.tensor(X), torch.tensor(y)\n",
        "\n",
        "# EL VALOR DE LB SÍ LO PUEDEN CAMBIAR SI LO CONSIDERAN NECESARIO\n",
        "lb = 4\n",
        "X_train, y_train = create_timeseries_dataset(train, lookback=lb)\n",
        "#X_validation, y_validation = create_timeseries_dataset(validation, lookback=lb)\n",
        "X_test, y_test = create_timeseries_dataset(test, lookback=lb)\n",
        "\n",
        "print(X_train.shape, y_train.shape)\n",
        "#print(X_validation.shape, y_validation.shape)\n",
        "print(X_test.shape, y_test.shape)"
      ]
    },
    {
      "cell_type": "markdown",
      "id": "736f894c",
      "metadata": {
        "deletable": false,
        "editable": false,
        "id": "736f894c",
        "nbgrader": {
          "cell_type": "markdown",
          "checksum": "d10291404d48c7939620e98bdf5c78c9",
          "grade": false,
          "grade_id": "cell-23fc69181d7a7cd8",
          "locked": true,
          "schema_version": 3,
          "solution": false,
          "task": false
        }
      },
      "source": [
        "Ahora necesitamos crear una clase que definirá nuestro modelo de red neuronal con LSTM. Noten que acá solo se dejaran las firmas de las funciones necesarias, ustedes deberán decidir que arquitectura con LSTM implementar, con la finalidad de superar cierto threshold de métrica de desempeño mencionado abajo."
      ]
    },
    {
      "cell_type": "code",
      "execution_count": null,
      "id": "dfb5df7a",
      "metadata": {
        "ExecuteTime": {
          "end_time": "2023-07-31T02:32:38.709484Z",
          "start_time": "2023-07-31T02:32:38.702496Z"
        },
        "deletable": false,
        "id": "dfb5df7a",
        "nbgrader": {
          "cell_type": "code",
          "checksum": "37d446d97ee24bb313f280d371544a3a",
          "grade": false,
          "grade_id": "cell-f0f68d3f484736df",
          "locked": false,
          "schema_version": 3,
          "solution": true,
          "task": false
        }
      },
      "outputs": [],
      "source": [
        "import torch.nn as nn\n",
        "\n",
        "class CustomModelLSTM(nn.Module):\n",
        "    def __init__(self):\n",
        "        # YOUR CODE HERE\n",
        "        raise NotImplementedError()\n",
        "    def forward(self, x):\n",
        "        # YOUR CODE HERE\n",
        "        raise NotImplementedError()\n",
        "        return x"
      ]
    },
    {
      "cell_type": "markdown",
      "id": "ca183d4b",
      "metadata": {
        "deletable": false,
        "editable": false,
        "id": "ca183d4b",
        "nbgrader": {
          "cell_type": "markdown",
          "checksum": "6a4476b61104b249dbdf1098ff92545f",
          "grade": false,
          "grade_id": "cell-e023e0bb22dd42ad",
          "locked": true,
          "schema_version": 3,
          "solution": false,
          "task": false
        }
      },
      "source": [
        "La función nn.LSTM() produce una tupla como salida. El primer elemento de esta tupla consiste en los hidden states generados, donde cada paso de tiempo de la entrada tiene su correspondiente hidden state. El segundo elemento contiene la memoria y los hidden states de la unidad LSTM, pero no se usan en este contexto particular.\n",
        "\n",
        "La capa LSTM se configura con la opción `batch_first=True` porque los tensores de entrada se preparan en la dimensión de (muestra de ventana, pasos de tiempo, características). Con esta configuración, se crea un batch tomando muestras a lo largo de la primera dimensión.\n",
        "\n",
        "Para generar un único resultado de regresión, la salida de los estados ocultos se procesa aún más utilizando una capa fully connected. Dado que la salida de LSTM corresponde a un valor para cada paso de tiempo de entrada, se debe seleccionar solo la salida del último paso de tiempo."
      ]
    },
    {
      "cell_type": "code",
      "execution_count": null,
      "id": "11ae7532",
      "metadata": {
        "ExecuteTime": {
          "end_time": "2023-07-31T02:33:57.001329Z",
          "start_time": "2023-07-31T02:32:38.711242Z"
        },
        "deletable": false,
        "editable": false,
        "id": "11ae7532",
        "nbgrader": {
          "cell_type": "code",
          "checksum": "2599e2b7f31213a3e230d3fd87f5dca1",
          "grade": true,
          "grade_id": "cell-d106920d76b987cc",
          "locked": true,
          "points": 0,
          "schema_version": 3,
          "solution": false,
          "task": false
        }
      },
      "outputs": [],
      "source": [
        "import torch.optim as optim\n",
        "import torch.utils.data as data\n",
        "\n",
        "# NOTEN QUE ESTOY PONIENDO DE NUEVO LOS SEEDS PARA SER CONSTANTES\n",
        "random.seed(seed_)\n",
        "np.random.seed(seed_)\n",
        "torch.manual_seed(seed_)\n",
        "if torch.cuda.is_available():\n",
        "    torch.cuda.manual_seed(seed_)\n",
        "    torch.cuda.manual_seed_all(seed_)  # Multi-GPU.\n",
        "torch.backends.cudnn.deterministic = True\n",
        "torch.backends.cudnn.benchmark = False\n",
        "############\n",
        "\n",
        "model = CustomModelLSTM()\n",
        "# Optimizador y perdida\n",
        "optimizer = optim.Adam(model.parameters())\n",
        "loss_fn = nn.MSELoss()\n",
        "# Observen como podemos también definir un DataLoader de forma snecilla\n",
        "loader = data.DataLoader(data.TensorDataset(X_train, y_train), shuffle=False, batch_size=8)\n",
        "\n",
        "# Pueden cambiar el número de epocas en esta ocasión con tal de llegar al valor de la metrica de desempeño\n",
        "n_epochs = 3000\n",
        "\n",
        "# Perdidas\n",
        "loss_train = []\n",
        "loss_test = []\n",
        "\n",
        "# Iteramos sobre cada epoca\n",
        "for epoch in range(n_epochs):\n",
        "    # Colocamos el modelo en modo de entrenamiento\n",
        "    model.train()\n",
        "\n",
        "    # Cargamos los batches\n",
        "    for X_batch, y_batch in loader:\n",
        "        # Obtenemos una primera prediccion\n",
        "        y_pred = model(X_batch)\n",
        "        # Calculamos la perdida\n",
        "        loss = loss_fn(y_pred, y_batch)\n",
        "        # Reseteamos la gradiente a cero\n",
        "        #   sino la gradiente de previas iteraciones se acumulará con las nuevas\n",
        "        optimizer.zero_grad()\n",
        "        # Backprop\n",
        "        loss.backward()\n",
        "        # Aplicar las gradientes para actualizar los parametros del modelo\n",
        "        optimizer.step()\n",
        "\n",
        "    # Validación cada 100 epocas\n",
        "    if epoch % 100 != 0 and epoch != n_epochs-1:\n",
        "        continue\n",
        "    # Colocamos el modelo en modo de evaluación\n",
        "    model.eval()\n",
        "\n",
        "    # Deshabilitamos el calculo de gradientes\n",
        "    with torch.no_grad():\n",
        "        # Prediccion\n",
        "        y_pred = model(X_train)\n",
        "        # Calculo del RMSE - Root Mean Square Error\n",
        "        train_rmse = np.sqrt(loss_fn(y_pred, y_train))\n",
        "        # Prediccion sobre validation\n",
        "        y_pred = model(X_test)\n",
        "        # Calculo del RMSE para validation\n",
        "        test_rmse = np.sqrt(loss_fn(y_pred, y_test))\n",
        "        loss_train.append(train_rmse)\n",
        "        loss_test.append(test_rmse)\n",
        "\n",
        "    print(\"Epoch %d: train RMSE %.4f, test RMSE %.4f\" % (epoch, train_rmse, test_rmse))"
      ]
    },
    {
      "cell_type": "code",
      "execution_count": null,
      "id": "ec8794e6",
      "metadata": {
        "ExecuteTime": {
          "end_time": "2023-07-31T02:33:57.188220Z",
          "start_time": "2023-07-31T02:33:57.003832Z"
        },
        "id": "ec8794e6"
      },
      "outputs": [],
      "source": [
        "# Visualización del rendimiento\n",
        "epoch = np.arange(len(loss_train))\n",
        "plt.figure()\n",
        "plt.plot(epoch, loss_train, 'r', label='Training',)\n",
        "plt.plot(epoch, loss_test, 'b', label='Test')\n",
        "plt.legend()\n",
        "plt.xlabel('Epoch'), plt.ylabel('RMSE')\n",
        "plt.show()"
      ]
    },
    {
      "cell_type": "code",
      "execution_count": null,
      "id": "7b4eae30",
      "metadata": {
        "ExecuteTime": {
          "end_time": "2023-07-31T02:33:57.407236Z",
          "start_time": "2023-07-31T02:33:57.190215Z"
        },
        "deletable": false,
        "editable": false,
        "id": "7b4eae30",
        "nbgrader": {
          "cell_type": "code",
          "checksum": "52fe33653ffb1624968f4a4a8b8dd877",
          "grade": false,
          "grade_id": "cell-5a5264aa04158cad",
          "locked": true,
          "schema_version": 3,
          "solution": false,
          "task": false
        }
      },
      "outputs": [],
      "source": [
        "# Graficamos\n",
        "with torch.no_grad():\n",
        "    # Movemos las predicciones de train para graficar\n",
        "    train_plot = np.ones_like(time_series) * np.nan\n",
        "    # Prediccion de train\n",
        "    y_pred = model(X_train)\n",
        "    # Extraemos los datos solo del ultimo paso\n",
        "    y_pred = y_pred[:, -1, :]\n",
        "    train_plot[lb : num_train] = model(X_train)[:, -1, :]\n",
        "    # Movemos las predicciones de test\n",
        "    test_plot = np.ones_like(time_series) * np.nan\n",
        "    test_plot[num_train + lb : len(time_series)] = model(X_test)[:, -1, :]\n",
        "\n",
        "\n",
        "plt.figure()\n",
        "plt.plot(time_series, label=\"Serie Original\")\n",
        "plt.plot(train_plot, c='r', label=\"Serie Train\")\n",
        "plt.plot(test_plot, c='g', label=\"Serie Test\")\n",
        "plt.xlabel('Paso en el Tiempo'), plt.ylabel('Pasajeros')\n",
        "plt.legend()\n",
        "plt.show()"
      ]
    },
    {
      "cell_type": "markdown",
      "id": "473ff4a8",
      "metadata": {
        "deletable": false,
        "editable": false,
        "id": "473ff4a8",
        "nbgrader": {
          "cell_type": "markdown",
          "checksum": "150fbfe9209ee5b1fc82c08094ee43fd",
          "grade": false,
          "grade_id": "cell-7a20e9d17f776c79",
          "locked": true,
          "schema_version": 3,
          "solution": false,
          "task": false
        }
      },
      "source": [
        "**Nota:** Lo que se estará evaluando es el RMSE tanto en training como en test. Se evaluará que en training sea **menor a 22**, mientras que en testing sea **menor a 70**."
      ]
    },
    {
      "cell_type": "code",
      "execution_count": null,
      "id": "f8ac2320",
      "metadata": {
        "ExecuteTime": {
          "end_time": "2023-07-31T02:33:57.423482Z",
          "start_time": "2023-07-31T02:33:57.410233Z"
        },
        "deletable": false,
        "editable": false,
        "id": "f8ac2320",
        "nbgrader": {
          "cell_type": "code",
          "checksum": "04af852d7a882ae7a5dddcd4fe42d22b",
          "grade": true,
          "grade_id": "cell-65c8e80376d46bc1",
          "locked": true,
          "points": 28,
          "schema_version": 3,
          "solution": false,
          "task": false
        }
      },
      "outputs": [],
      "source": [
        "float(loss_test[len(loss_test)-1])\n",
        "float(test_rmse)\n",
        "loss_train\n",
        "\n",
        "with tick.marks(7):\n",
        "    assert loss_train[-1] < 22\n",
        "\n",
        "with tick.marks(7):\n",
        "    assert train_rmse < 22\n",
        "\n",
        "with tick.marks(7):\n",
        "    assert loss_test[-1] < 70\n",
        "\n",
        "with tick.marks(7):\n",
        "    assert test_rmse < 70\n"
      ]
    },
    {
      "cell_type": "code",
      "execution_count": null,
      "id": "0f8e00b4",
      "metadata": {
        "ExecuteTime": {
          "end_time": "2023-07-31T02:33:57.438818Z",
          "start_time": "2023-07-31T02:33:57.425481Z"
        },
        "deletable": false,
        "editable": false,
        "id": "0f8e00b4",
        "nbgrader": {
          "cell_type": "code",
          "checksum": "5fc71d80805acbbec919a3972572b7f4",
          "grade": true,
          "grade_id": "cell-a895611caee19d78",
          "locked": true,
          "points": 0,
          "schema_version": 3,
          "solution": false,
          "task": false
        }
      },
      "outputs": [],
      "source": [
        "\n",
        "print()\n",
        "print(\"La fraccion de abajo muestra su rendimiento basado en las partes visibles de este laboratorio\")\n",
        "tick.summarise_marks() #\n"
      ]
    },
    {
      "cell_type": "code",
      "execution_count": null,
      "id": "1008a216",
      "metadata": {
        "id": "1008a216"
      },
      "outputs": [],
      "source": []
    }
  ],
  "metadata": {
    "colab": {
      "provenance": []
    },
    "hide_input": false,
    "kernelspec": {
      "display_name": "Python 3",
      "language": "python",
      "name": "python3"
    },
    "language_info": {
      "codemirror_mode": {
        "name": "ipython",
        "version": 3
      },
      "file_extension": ".py",
      "mimetype": "text/x-python",
      "name": "python",
      "nbconvert_exporter": "python",
      "pygments_lexer": "ipython3",
      "version": "3.9.1"
    },
    "toc": {
      "base_numbering": 1,
      "nav_menu": {},
      "number_sections": true,
      "sideBar": true,
      "skip_h1_title": false,
      "title_cell": "Table of Contents",
      "title_sidebar": "Contents",
      "toc_cell": false,
      "toc_position": {},
      "toc_section_display": true,
      "toc_window_display": false
    },
    "varInspector": {
      "cols": {
        "lenName": 16,
        "lenType": 16,
        "lenVar": 40
      },
      "kernels_config": {
        "python": {
          "delete_cmd_postfix": "",
          "delete_cmd_prefix": "del ",
          "library": "var_list.py",
          "varRefreshCmd": "print(var_dic_list())"
        },
        "r": {
          "delete_cmd_postfix": ") ",
          "delete_cmd_prefix": "rm(",
          "library": "var_list.r",
          "varRefreshCmd": "cat(var_dic_list()) "
        }
      },
      "types_to_exclude": [
        "module",
        "function",
        "builtin_function_or_method",
        "instance",
        "_Feature"
      ],
      "window_display": false
    }
  },
  "nbformat": 4,
  "nbformat_minor": 5
}
